{
 "cells": [
  {
   "cell_type": "markdown",
   "metadata": {},
   "source": [
    "# Python: Basics"
   ]
  },
  {
   "cell_type": "markdown",
   "metadata": {},
   "source": [
    "## Getting started"
   ]
  },
  {
   "cell_type": "markdown",
   "metadata": {},
   "source": [
    "Our first line in Python will be, as usual, printing on the screen \"Hello World!\"."
   ]
  },
  {
   "cell_type": "code",
   "execution_count": 1,
   "metadata": {},
   "outputs": [
    {
     "name": "stdout",
     "output_type": "stream",
     "text": [
      "Hello World!\n"
     ]
    }
   ],
   "source": [
    "print(\"Hello World!\")"
   ]
  },
  {
   "cell_type": "markdown",
   "metadata": {},
   "source": [
    "We comment in Python placing  # in front of the text:"
   ]
  },
  {
   "cell_type": "code",
   "execution_count": 2,
   "metadata": {},
   "outputs": [],
   "source": [
    "# This line is commented and will be ignored"
   ]
  },
  {
   "cell_type": "markdown",
   "metadata": {},
   "source": [
    "There are seven arithmetic operations in Python: addition, subtraction, multiplication, division, modulus, exponentiation and floor division. "
   ]
  },
  {
   "cell_type": "code",
   "execution_count": 3,
   "metadata": {},
   "outputs": [
    {
     "name": "stdout",
     "output_type": "stream",
     "text": [
      "5 + 2 = 7\n",
      "5 - 2 = 3\n",
      "5 * 2 = 10\n",
      "5 / 2 = 2.5\n",
      "5 % 2 = 1\n",
      "5 ** 2 = 25\n",
      "5 // 2 = 2\n"
     ]
    }
   ],
   "source": [
    "print(\"5 + 2 =\", 5+2)   # addition\n",
    "print(\"5 - 2 =\", 5-2)   # subtraction\n",
    "print(\"5 * 2 =\", 5*2)   # multiplication\n",
    "print(\"5 / 2 =\", 5/2)   # division\n",
    "print(\"5 % 2 =\", 5%2)   # modulus\n",
    "print(\"5 ** 2 =\", 5**2) # exponentiation\n",
    "print(\"5 // 2 =\", 5//2) # floor division"
   ]
  },
  {
   "cell_type": "markdown",
   "metadata": {},
   "source": [
    "## Built-in data structures\n",
    "Now, we will review and give examples of the following built-in data structures in Python:\n",
    "* **List** []: a collection of elements (with potential duplicates) which are ordered and changable. \n",
    "* **Tuple** (): a collection of elements (with potential duplicats) which are ordered and unchangable.\n",
    "* **Set** {}: a collection of elements (with no duplicates) which are unordered\n",
    "* **Dictionaries {'a':'b'}**: a collection of elemnts (with no duplicates) which are unordered and changable."
   ]
  },
  {
   "cell_type": "markdown",
   "metadata": {},
   "source": [
    "### Lists\n",
    "We define lists using square brackets []. "
   ]
  },
  {
   "cell_type": "code",
   "execution_count": 4,
   "metadata": {
    "scrolled": true
   },
   "outputs": [
    {
     "name": "stdout",
     "output_type": "stream",
     "text": [
      "['dog', 'cat', 'duck', 'dog', 'hourse']\n",
      "[(7, 'cat'), (7, None), 5]\n"
     ]
    }
   ],
   "source": [
    "# Define\n",
    "list_animals = ['dog','cat','duck','dog','hourse']\n",
    "list_general = [(7,\"cat\"),(7,None),5]\n",
    "\n",
    "print(list_animals)\n",
    "print(list_general)"
   ]
  },
  {
   "cell_type": "code",
   "execution_count": 5,
   "metadata": {},
   "outputs": [
    {
     "name": "stdout",
     "output_type": "stream",
     "text": [
      "dog\n"
     ]
    }
   ],
   "source": [
    "# Accessing values\n",
    "print(list_animals[3])"
   ]
  },
  {
   "cell_type": "code",
   "execution_count": 6,
   "metadata": {},
   "outputs": [
    {
     "name": "stdout",
     "output_type": "stream",
     "text": [
      "['duck', 'dog', 'hourse']\n"
     ]
    }
   ],
   "source": [
    "# Slicing\n",
    "print(list_animals[2:5])"
   ]
  },
  {
   "cell_type": "code",
   "execution_count": 7,
   "metadata": {},
   "outputs": [
    {
     "name": "stdout",
     "output_type": "stream",
     "text": [
      "['dog', 'cat', 'FISH', 'dog', 'hourse']\n"
     ]
    }
   ],
   "source": [
    "# Changing values\n",
    "list_animals[2] = \"FISH\"\n",
    "print(list_animals)"
   ]
  },
  {
   "cell_type": "markdown",
   "metadata": {},
   "source": [
    "#### Attributes and Methods\n",
    "\n",
    "* **append**: adds an element at the end of the list \n",
    "* **insert**: adds an element at the given postion\n",
    "* **pop**: removes the element at the given position\n",
    "* **remove**: removes the element with the given value\n",
    "* **count**: counts the number of elements with the given value\n",
    "* **clear**: removes all the elements of the list\n",
    "* **sort**: sort the list"
   ]
  },
  {
   "cell_type": "code",
   "execution_count": 8,
   "metadata": {},
   "outputs": [
    {
     "name": "stdout",
     "output_type": "stream",
     "text": [
      "['dog', 'cat']\n",
      "['dog', 'cat', 'RAT']\n"
     ]
    }
   ],
   "source": [
    "# append\n",
    "list_pets=['dog','cat']\n",
    "print(list_pets)\n",
    "\n",
    "list_pets.append('RAT')\n",
    "print(list_pets)"
   ]
  },
  {
   "cell_type": "code",
   "execution_count": 9,
   "metadata": {},
   "outputs": [
    {
     "name": "stdout",
     "output_type": "stream",
     "text": [
      "['dog', 'cat']\n",
      "['dog', 'RAT', 'cat']\n"
     ]
    }
   ],
   "source": [
    "# insert\n",
    "list_pets=['dog', 'cat']\n",
    "print(list_pets)\n",
    "\n",
    "list_pets.insert(1,'RAT')\n",
    "print(list_pets)"
   ]
  },
  {
   "cell_type": "code",
   "execution_count": 10,
   "metadata": {},
   "outputs": [
    {
     "name": "stdout",
     "output_type": "stream",
     "text": [
      "['dog', 'RAT', 'cat']\n",
      "['RAT', 'cat']\n"
     ]
    }
   ],
   "source": [
    "# pop\n",
    "list_pets=['dog', 'RAT', 'cat']\n",
    "print(list_pets)\n",
    "\n",
    "list_pets.pop(0)\n",
    "print(list_pets)"
   ]
  },
  {
   "cell_type": "code",
   "execution_count": 11,
   "metadata": {},
   "outputs": [
    {
     "name": "stdout",
     "output_type": "stream",
     "text": [
      "['dog', 'RAT', 'cat']\n",
      "['dog', 'RAT']\n"
     ]
    }
   ],
   "source": [
    "# remove\n",
    "list_pets=['dog', 'RAT', 'cat']\n",
    "print(list_pets)\n",
    "\n",
    "list_pets.remove(\"cat\")\n",
    "print(list_pets)"
   ]
  },
  {
   "cell_type": "code",
   "execution_count": 12,
   "metadata": {},
   "outputs": [
    {
     "data": {
      "text/plain": [
       "3"
      ]
     },
     "execution_count": 12,
     "metadata": {},
     "output_type": "execute_result"
    }
   ],
   "source": [
    "# count\n",
    "list_pets=['dog','cat', 'dog','dog']\n",
    "list_pets.count('dog')"
   ]
  },
  {
   "cell_type": "markdown",
   "metadata": {},
   "source": [
    "### Tuples\n",
    "We define tuples using round brackets (). "
   ]
  },
  {
   "cell_type": "code",
   "execution_count": 13,
   "metadata": {},
   "outputs": [
    {
     "name": "stdout",
     "output_type": "stream",
     "text": [
      "('dog', 'cat', 'rat', 'duck', 'hourse')\n",
      "((7, 'cat'), (7, None), 5)\n"
     ]
    }
   ],
   "source": [
    "# Define\n",
    "tuple_animals = ('dog','cat','rat','duck','hourse')\n",
    "tuple_general = ((7,\"cat\"),(7,None),5)\n",
    "\n",
    "print(tuple_animals)\n",
    "print(tuple_general)"
   ]
  },
  {
   "cell_type": "code",
   "execution_count": 14,
   "metadata": {},
   "outputs": [
    {
     "name": "stdout",
     "output_type": "stream",
     "text": [
      "cat\n",
      "(7, None)\n"
     ]
    }
   ],
   "source": [
    "# Accessing elements\n",
    "print(tuple_animals[1])\n",
    "print(tuple_general[1])"
   ]
  },
  {
   "cell_type": "markdown",
   "metadata": {},
   "source": [
    "### Sets\n",
    "We define set using curly brackets {}. "
   ]
  },
  {
   "cell_type": "code",
   "execution_count": 15,
   "metadata": {},
   "outputs": [
    {
     "name": "stdout",
     "output_type": "stream",
     "text": [
      "{'dog', 'cat', 'hourse', 'rat', 'duck'}\n",
      "{5, (7, None), (7, 'cat')}\n"
     ]
    }
   ],
   "source": [
    "# Define\n",
    "set_animals = {'dog','cat','rat','duck','hourse'}\n",
    "set_general = {(7,\"cat\"),(7,None),5}\n",
    "\n",
    "print(set_animals)\n",
    "print(set_general)"
   ]
  },
  {
   "cell_type": "markdown",
   "metadata": {},
   "source": [
    "#### Basic operations (methods):\n",
    "* **add**: adds an element to the set\n",
    "* **pop**: removes a random element from the set\n",
    "* **remove**: removes the specified element from the set\n",
    "* **discard**: removes the specified element from the set\n",
    "* **clear**: removes all the elements of the set\n",
    "\n",
    "Operations on two sets $A$ and $B$:\n",
    "* **difference**: $A\\setminus B$.\n",
    "* **union**: $A\\cup B$\n",
    "* **intersection**: $A\\cap B$\n",
    "* **symmetric difference**: $(A\\setminus B)\\cup (B\\setminus A)$\n",
    "\n",
    "Logical operations: True or False\n",
    "* **isdisjoint**: checks whether $A\\cap B$ is empty\n",
    "* **issubset**: checks whether $A\\subseteq B$\n",
    "* **issuperset**: checks whether $A\\supseteq B$"
   ]
  },
  {
   "cell_type": "code",
   "execution_count": 16,
   "metadata": {},
   "outputs": [
    {
     "data": {
      "text/plain": [
       "{'elephant', 'wolf'}"
      ]
     },
     "execution_count": 16,
     "metadata": {},
     "output_type": "execute_result"
    }
   ],
   "source": [
    "set_animals = {'dog','cat','wolf','elephant'}\n",
    "set_pets = {'dog','cat','rat'}\n",
    "\n",
    "# difference\n",
    "set_animals.difference(set_pets)"
   ]
  },
  {
   "cell_type": "code",
   "execution_count": 17,
   "metadata": {},
   "outputs": [
    {
     "data": {
      "text/plain": [
       "{'cat', 'dog', 'elephant', 'rat', 'wolf'}"
      ]
     },
     "execution_count": 17,
     "metadata": {},
     "output_type": "execute_result"
    }
   ],
   "source": [
    "# union\n",
    "set_animals.union(set_pets)"
   ]
  },
  {
   "cell_type": "code",
   "execution_count": 18,
   "metadata": {},
   "outputs": [
    {
     "data": {
      "text/plain": [
       "{'cat', 'dog'}"
      ]
     },
     "execution_count": 18,
     "metadata": {},
     "output_type": "execute_result"
    }
   ],
   "source": [
    "# intersection\n",
    "set_animals.intersection(set_pets)"
   ]
  },
  {
   "cell_type": "code",
   "execution_count": 19,
   "metadata": {},
   "outputs": [
    {
     "data": {
      "text/plain": [
       "{'elephant', 'rat', 'wolf'}"
      ]
     },
     "execution_count": 19,
     "metadata": {},
     "output_type": "execute_result"
    }
   ],
   "source": [
    "# symmetric difference\n",
    "set_animals.symmetric_difference(set_pets)"
   ]
  },
  {
   "cell_type": "code",
   "execution_count": 20,
   "metadata": {},
   "outputs": [
    {
     "data": {
      "text/plain": [
       "False"
      ]
     },
     "execution_count": 20,
     "metadata": {},
     "output_type": "execute_result"
    }
   ],
   "source": [
    "# isdisjoint\n",
    "set_animals.isdisjoint(set_pets)"
   ]
  },
  {
   "cell_type": "code",
   "execution_count": 21,
   "metadata": {},
   "outputs": [
    {
     "name": "stdout",
     "output_type": "stream",
     "text": [
      "True\n",
      "False\n"
     ]
    }
   ],
   "source": [
    "# issubset, is superset\n",
    "set_new = {'dog','cat'}\n",
    "print(set_new.issubset(set_animals))\n",
    "print(set_new.issuperset(set_animals))"
   ]
  },
  {
   "cell_type": "markdown",
   "metadata": {},
   "source": [
    "### Dictionaries\n",
    "The dictionaries are defined by curly brackets with specified keys and values seperated by a colon {key:value}"
   ]
  },
  {
   "cell_type": "code",
   "execution_count": 22,
   "metadata": {},
   "outputs": [
    {
     "name": "stdout",
     "output_type": "stream",
     "text": [
      "{'type': 'Dog', 'breed': 'Poodle', 'birth': '2015'}\n"
     ]
    },
    {
     "data": {
      "text/plain": [
       "dict"
      ]
     },
     "execution_count": 22,
     "metadata": {},
     "output_type": "execute_result"
    }
   ],
   "source": [
    "# Define\n",
    "my_pet = {\n",
    "    'type': 'Dog',\n",
    "    'breed': 'Poodle',\n",
    "    'birth' : '2015'\n",
    "}\n",
    "print(my_pet)\n",
    "type(my_pet)"
   ]
  },
  {
   "cell_type": "code",
   "execution_count": 23,
   "metadata": {},
   "outputs": [
    {
     "data": {
      "text/plain": [
       "dict_keys(['type', 'breed', 'birth'])"
      ]
     },
     "execution_count": 23,
     "metadata": {},
     "output_type": "execute_result"
    }
   ],
   "source": [
    "# print the keys\n",
    "my_pet.keys()"
   ]
  },
  {
   "cell_type": "code",
   "execution_count": 24,
   "metadata": {},
   "outputs": [
    {
     "data": {
      "text/plain": [
       "dict_values(['Dog', 'Poodle', '2015'])"
      ]
     },
     "execution_count": 24,
     "metadata": {},
     "output_type": "execute_result"
    }
   ],
   "source": [
    "# print the values\n",
    "my_pet.values()"
   ]
  },
  {
   "cell_type": "code",
   "execution_count": 25,
   "metadata": {},
   "outputs": [
    {
     "data": {
      "text/plain": [
       "'Poodle'"
      ]
     },
     "execution_count": 25,
     "metadata": {},
     "output_type": "execute_result"
    }
   ],
   "source": [
    "# Accessing individual values\n",
    "my_pet['breed']"
   ]
  },
  {
   "cell_type": "code",
   "execution_count": 26,
   "metadata": {},
   "outputs": [
    {
     "name": "stdout",
     "output_type": "stream",
     "text": [
      "{'type': 'Dog', 'breed': 'Poodle', 'birth': '2017'}\n"
     ]
    }
   ],
   "source": [
    "# Changing individual values\n",
    "my_pet['birth']= '2017'\n",
    "print(my_pet)"
   ]
  },
  {
   "cell_type": "code",
   "execution_count": 27,
   "metadata": {},
   "outputs": [
    {
     "ename": "NameError",
     "evalue": "name 'dict_pet' is not defined",
     "output_type": "error",
     "traceback": [
      "\u001b[0;31m---------------------------------------------------------------------------\u001b[0m",
      "\u001b[0;31mNameError\u001b[0m                                 Traceback (most recent call last)",
      "\u001b[0;32m<ipython-input-27-765a9c04245e>\u001b[0m in \u001b[0;36m<module>\u001b[0;34m\u001b[0m\n\u001b[1;32m      1\u001b[0m \u001b[0;31m# Adding items\u001b[0m\u001b[0;34m\u001b[0m\u001b[0;34m\u001b[0m\u001b[0;34m\u001b[0m\u001b[0m\n\u001b[1;32m      2\u001b[0m \u001b[0mmy_pet\u001b[0m\u001b[0;34m[\u001b[0m\u001b[0;34m'color'\u001b[0m\u001b[0;34m]\u001b[0m \u001b[0;34m=\u001b[0m \u001b[0;34m'black'\u001b[0m\u001b[0;34m\u001b[0m\u001b[0;34m\u001b[0m\u001b[0m\n\u001b[0;32m----> 3\u001b[0;31m \u001b[0mprint\u001b[0m\u001b[0;34m(\u001b[0m\u001b[0mdict_pet\u001b[0m\u001b[0;34m)\u001b[0m\u001b[0;34m\u001b[0m\u001b[0;34m\u001b[0m\u001b[0m\n\u001b[0m",
      "\u001b[0;31mNameError\u001b[0m: name 'dict_pet' is not defined"
     ]
    }
   ],
   "source": [
    "# Adding items\n",
    "my_pet['color'] = 'black'\n",
    "print(dict_pet)"
   ]
  },
  {
   "cell_type": "code",
   "execution_count": null,
   "metadata": {},
   "outputs": [],
   "source": [
    "# Deleting dictionary completely\n",
    "del dict_pet"
   ]
  },
  {
   "cell_type": "markdown",
   "metadata": {},
   "source": [
    "#### The common operations (methods) on the lists include:\n",
    "* **keys**:   returns a list of all the keys   in the dictionary\n",
    "* **values**: returns a list of all the values in the dictionary\n",
    "* **clear**: removes all the elements of the dictionary\n",
    "* **pop**: removes  the element with a specific key from the dictionary\n",
    "* **popitem**: removes  the last inserted element with a specific key from the dictionary"
   ]
  },
  {
   "cell_type": "code",
   "execution_count": null,
   "metadata": {},
   "outputs": [],
   "source": [
    "# keys\n",
    "dict_pet = {'type': 'Dog', 'breed': 'Poodle','birth' : '2015'}\n",
    "dict_pet.keys()"
   ]
  },
  {
   "cell_type": "code",
   "execution_count": null,
   "metadata": {},
   "outputs": [],
   "source": [
    "# values\n",
    "dict_pet = {'type': 'Dog', 'breed': 'Poodle','birth' : '2015'}\n",
    "dict_pet.values()"
   ]
  },
  {
   "cell_type": "markdown",
   "metadata": {},
   "source": [
    "## Control flows\n",
    "\n",
    "* Condition: **if**, **elif**, **else**\n",
    "* Loops: **for**, **while**"
   ]
  },
  {
   "cell_type": "code",
   "execution_count": null,
   "metadata": {},
   "outputs": [],
   "source": [
    "# if\n",
    "x=10\n",
    "if x>0:\n",
    "    print('positive number')"
   ]
  },
  {
   "cell_type": "code",
   "execution_count": null,
   "metadata": {},
   "outputs": [],
   "source": [
    "# if, elif, else\n",
    "\n",
    "x=12\n",
    "\n",
    "if x<0:\n",
    "    print('positive number')\n",
    "elif x==0:\n",
    "    print('zero')\n",
    "elif 0<x<5:\n",
    "    print('between 0 and 5')\n",
    "else:\n",
    "    print('greater or equal to 5')"
   ]
  }
 ],
 "metadata": {
  "kernelspec": {
   "display_name": "Python 3",
   "language": "python",
   "name": "python3"
  },
  "language_info": {
   "codemirror_mode": {
    "name": "ipython",
    "version": 3
   },
   "file_extension": ".py",
   "mimetype": "text/x-python",
   "name": "python",
   "nbconvert_exporter": "python",
   "pygments_lexer": "ipython3",
   "version": "3.9.4"
  }
 },
 "nbformat": 4,
 "nbformat_minor": 2
}
