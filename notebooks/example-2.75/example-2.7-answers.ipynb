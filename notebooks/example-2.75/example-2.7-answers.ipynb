{
 "cells": [
  {
   "cell_type": "markdown",
   "id": "a61f4b1e-5b27-4cdc-83af-1119d0f692a9",
   "metadata": {},
   "source": [
    "Example 2.75\n",
    "============\n",
    "\n",
    "This notebook is available on github\n",
    "[here](https://github.com/aezarebski/aas-extended-examples). If you find\n",
    "errors or would like to suggest an improvement, feel free to create an\n",
    "issue.\n",
    "\n",
    "As usual we will start by importing some useful libraries."
   ]
  },
  {
   "cell_type": "code",
   "execution_count": 1,
   "id": "abb9087e-7cbf-43fd-9fd3-6465f613cf03",
   "metadata": {},
   "outputs": [],
   "source": [
    "%matplotlib inline\n",
    "import statsmodels.api as sm\n",
    "from statsmodels.graphics.mosaicplot import mosaic\n",
    "import matplotlib.pyplot as plt\n",
    "import pandas as pd\n",
    "import scipy\n",
    "import numpy as np"
   ]
  },
  {
   "cell_type": "markdown",
   "id": "65f9801b-b722-4312-b720-2edb27a6d175",
   "metadata": {},
   "source": [
    "Today we will look at a dataset from a double-blind clinical trial of a new treatment for rheumatoid arthritis. We will test whether treatment is correlated with a change in symptoms using a $\\chi^{2}$-test.\n",
    "\n",
    "First, we need to load the data which comes bundled with `statsmodels`."
   ]
  },
  {
   "cell_type": "code",
   "execution_count": 2,
   "id": "de17ffee-8a0c-4730-949a-a7c621c5a1b5",
   "metadata": {},
   "outputs": [
    {
     "data": {
      "text/html": [
       "<div>\n",
       "<style scoped>\n",
       "    .dataframe tbody tr th:only-of-type {\n",
       "        vertical-align: middle;\n",
       "    }\n",
       "\n",
       "    .dataframe tbody tr th {\n",
       "        vertical-align: top;\n",
       "    }\n",
       "\n",
       "    .dataframe thead th {\n",
       "        text-align: right;\n",
       "    }\n",
       "</style>\n",
       "<table border=\"1\" class=\"dataframe\">\n",
       "  <thead>\n",
       "    <tr style=\"text-align: right;\">\n",
       "      <th></th>\n",
       "      <th>ID</th>\n",
       "      <th>Treatment</th>\n",
       "      <th>Sex</th>\n",
       "      <th>Age</th>\n",
       "      <th>Improved</th>\n",
       "    </tr>\n",
       "  </thead>\n",
       "  <tbody>\n",
       "    <tr>\n",
       "      <th>0</th>\n",
       "      <td>57</td>\n",
       "      <td>Treated</td>\n",
       "      <td>Male</td>\n",
       "      <td>27</td>\n",
       "      <td>Some</td>\n",
       "    </tr>\n",
       "    <tr>\n",
       "      <th>1</th>\n",
       "      <td>46</td>\n",
       "      <td>Treated</td>\n",
       "      <td>Male</td>\n",
       "      <td>29</td>\n",
       "      <td>None</td>\n",
       "    </tr>\n",
       "    <tr>\n",
       "      <th>2</th>\n",
       "      <td>77</td>\n",
       "      <td>Treated</td>\n",
       "      <td>Male</td>\n",
       "      <td>30</td>\n",
       "      <td>None</td>\n",
       "    </tr>\n",
       "    <tr>\n",
       "      <th>3</th>\n",
       "      <td>17</td>\n",
       "      <td>Treated</td>\n",
       "      <td>Male</td>\n",
       "      <td>32</td>\n",
       "      <td>Marked</td>\n",
       "    </tr>\n",
       "    <tr>\n",
       "      <th>4</th>\n",
       "      <td>36</td>\n",
       "      <td>Treated</td>\n",
       "      <td>Male</td>\n",
       "      <td>46</td>\n",
       "      <td>Marked</td>\n",
       "    </tr>\n",
       "  </tbody>\n",
       "</table>\n",
       "</div>"
      ],
      "text/plain": [
       "   ID Treatment   Sex  Age Improved\n",
       "0  57   Treated  Male   27     Some\n",
       "1  46   Treated  Male   29     None\n",
       "2  77   Treated  Male   30     None\n",
       "3  17   Treated  Male   32   Marked\n",
       "4  36   Treated  Male   46   Marked"
      ]
     },
     "execution_count": 2,
     "metadata": {},
     "output_type": "execute_result"
    }
   ],
   "source": [
    "ra = sm.datasets.get_rdataset(\"Arthritis\", \"vcd\").data\n",
    "ra.head()"
   ]
  },
  {
   "cell_type": "markdown",
   "id": "c3729f85-5d76-4768-9c94-24533dbd34f1",
   "metadata": {},
   "source": [
    "### Question\n",
    "\n",
    "Use `pandas` to generate a cross tabulation of the treatment status and improvement.\n",
    "\n",
    "[hint](https://pandas.pydata.org/pandas-docs/stable/reference/api/pandas.crosstab.html)"
   ]
  },
  {
   "cell_type": "markdown",
   "id": "5c5b8269-f9cf-485a-a334-9075efafd5e7",
   "metadata": {},
   "source": [
    "### Answer"
   ]
  },
  {
   "cell_type": "code",
   "execution_count": 3,
   "id": "aa6959e1-34d2-4f4c-9783-4c756dda3407",
   "metadata": {},
   "outputs": [
    {
     "name": "stdout",
     "output_type": "stream",
     "text": [
      "Improved   Marked  None  Some\n",
      "Treatment                    \n",
      "Placebo         7    29     7\n",
      "Treated        21    13     7\n"
     ]
    }
   ],
   "source": [
    "outcome_tbl = pd.crosstab(ra.Treatment, ra.Improved)\n",
    "print(outcome_tbl)"
   ]
  },
  {
   "cell_type": "markdown",
   "id": "e07a21a7-d039-45c8-b89f-f0051b889cab",
   "metadata": {},
   "source": [
    "### Question\n",
    "\n",
    "Generate a mosaic plot to display this data.\n",
    "\n",
    "[hint](https://www.statsmodels.org/dev/generated/statsmodels.graphics.mosaicplot.mosaic.html)"
   ]
  },
  {
   "cell_type": "markdown",
   "id": "57fd5d1d-97df-473f-bcd5-67430c3fe118",
   "metadata": {},
   "source": [
    "### Answer"
   ]
  },
  {
   "cell_type": "code",
   "execution_count": 4,
   "id": "07c7b300-f8a2-44e9-8bc9-0dd04f720d68",
   "metadata": {},
   "outputs": [
    {
     "data": {
      "image/png": "[encoded data removed]",
      "text/plain": [
       "<Figure size 432x288 with 3 Axes>"
      ]
     },
     "metadata": {
      "needs_background": "light"
     },
     "output_type": "display_data"
    }
   ],
   "source": [
    "mosaic(ra, ['Treatment','Improved'], title = \"Arthritis Treatment\")\n",
    "plt.show()"
   ]
  },
  {
   "cell_type": "markdown",
   "id": "ca90f04b-49ab-4ef8-bf96-44f926f7640f",
   "metadata": {},
   "source": [
    "### (Bonus) question\n",
    "\n",
    "What fundamental error does the default plot from `pandas` make?\n",
    "\n",
    "### Answer\n",
    "\n",
    "1. It uses red and green as the only colours which likely to be difficult for people with colour blindness.\n",
    "2. It has not respected the implicit ordering of response values.\n",
    "\n",
    "The figure below makes the pattern in the data far clearer (at the expense of few lines of code)."
   ]
  },
  {
   "cell_type": "code",
   "execution_count": 5,
   "id": "6f429058-2786-401f-9116-f4657113ec77",
   "metadata": {},
   "outputs": [
    {
     "data": {
      "image/png": "[encoded data removed]",
      "text/plain": [
       "<Figure size 432x288 with 3 Axes>"
      ]
     },
     "metadata": {
      "needs_background": "light"
     },
     "output_type": "display_data"
    }
   ],
   "source": [
    "ra['Improved'] = pd.Series(\n",
    "    pd.Categorical(ra.Improved, \n",
    "                 categories=['None','Some','Marked'], \n",
    "                 ordered=True))\n",
    "\n",
    "props = lambda key: {'color': 'r' if 'a' in key else 'gray'}\n",
    "props = {}\n",
    "props[('Treated','Marked')] = {'color': '#b35806'}\n",
    "props[('Treated','Some')] = {'color': '#f1a340'}\n",
    "props[('Treated','None')] = {'color': '#fee0b6'}\n",
    "props[('Placebo','Marked')] = {'color': '#d8daeb'}\n",
    "props[('Placebo','Some')] = {'color': '#998ec3'}\n",
    "props[('Placebo','None')] = {'color': '#542788'}\n",
    "\n",
    "mosaic(ra, ['Treatment','Improved'], title = \"Arthritis Treatment\", properties=props)\n",
    "plt.show()"
   ]
  },
  {
   "cell_type": "markdown",
   "id": "cfa426fe-0491-4fad-9616-cfb652a03f08",
   "metadata": {},
   "source": [
    "### Question\n",
    "\n",
    "For this trial, what was the null hypothesis?"
   ]
  },
  {
   "cell_type": "markdown",
   "id": "15ac96d4-bc55-4267-b0a8-7090a7379b10",
   "metadata": {},
   "source": [
    "### Answer\n",
    "\n",
    "The null hypothesis is that any change in symptoms is independent of whether the patient recieved the treatment or a placebo."
   ]
  },
  {
   "cell_type": "markdown",
   "id": "2ba24129-8d8f-4da7-be37-9923a8f19fb4",
   "metadata": {},
   "source": [
    "### Question\n",
    "\n",
    "Is it valid to use a $\\chi^{2}$-test for this data?"
   ]
  },
  {
   "cell_type": "markdown",
   "id": "b7f18c12-6320-42e2-8dd5-6a95f4240de5",
   "metadata": {},
   "source": [
    "### Answer\n",
    "\n",
    "We have more than 5 counts in each cell of the table, so we can use the $\\chi^{2}$-test. Be warned, some statisticians would prefer that you had at least 10 in each cell."
   ]
  },
  {
   "cell_type": "markdown",
   "id": "8a9b1ac0-1615-42cf-9b57-54ffbb1a65c7",
   "metadata": {},
   "source": [
    "### Question\n",
    "\n",
    "How many degrees of freedom are there in this data?"
   ]
  },
  {
   "cell_type": "markdown",
   "id": "e2cf6c09-44eb-4d09-b92c-f77c9fd1d56f",
   "metadata": {},
   "source": [
    "### Answer\n",
    "\n",
    "Two, because there are two rows of three columns and $(2 - 1)(3 - 1) = 2$."
   ]
  },
  {
   "cell_type": "markdown",
   "id": "b06ad182-3638-43ad-8b0d-2c2ea73b528c",
   "metadata": {},
   "source": [
    "### Question\n",
    "\n",
    "Perform a $\\chi^{2}$-test on the contingency table; are treatment and changes in symptoms independent?"
   ]
  },
  {
   "cell_type": "markdown",
   "id": "8c33f363-10b5-4343-b5bd-d5aa5a66eaef",
   "metadata": {},
   "source": [
    "### Answer\n",
    "\n",
    "The following code carries out the test and allows us to reject the null hypothesis."
   ]
  },
  {
   "cell_type": "code",
   "execution_count": 6,
   "id": "e326eb76-8b96-4091-8699-fd3fa7c15657",
   "metadata": {},
   "outputs": [
    {
     "name": "stdout",
     "output_type": "stream",
     "text": [
      "13.055019852524108\n",
      "0.0014626434089526504\n",
      "2\n",
      "[[14.33333333 21.5         7.16666667]\n",
      " [13.66666667 20.5         6.83333333]]\n"
     ]
    }
   ],
   "source": [
    "chi2, p, dof, expected = scipy.stats.chi2_contingency(outcome_tbl.to_numpy())\n",
    "print(chi2)\n",
    "print(p)\n",
    "print(dof)\n",
    "print(expected)"
   ]
  },
  {
   "cell_type": "markdown",
   "id": "542cd9fa-e404-4408-99e8-1f399ae6c079",
   "metadata": {},
   "source": [
    "### (Bonus) Question\n",
    "\n",
    "What can we conclude from this hypothesis test? Why do we need to randomise the treatment?\n",
    "\n",
    "### Answer\n",
    "\n",
    "- We can conclude that treatment and changes in symptoms are not independent.\n",
    "- Randomisation helps avoid confounding factors which lends more credibility to the conclusion that the treatment improves the condition.\n",
    "\n",
    "Note that a proper treatment of *causality* goes well beyond the scope of this course, but recall that randomised controlled trials provide very very high quality evidence."
   ]
  },
  {
   "cell_type": "markdown",
   "id": "6ab4e426-f050-4c58-9b2c-19cfd89b5b6f",
   "metadata": {},
   "source": [
    "Recall from earlier notebooks the function `estimate_and_ci` which computes the probability of success in repeated Bernoulli trials and the $95\\%$ confidence interval on this estimate."
   ]
  },
  {
   "cell_type": "code",
   "execution_count": 7,
   "id": "bbf97501-455e-42fd-b4ca-85804deed44f",
   "metadata": {},
   "outputs": [],
   "source": [
    "def estimate_and_ci(num_trials, num_success):\n",
    "    p_hat = num_success / num_trials\n",
    "    z = 1.96\n",
    "    delta = z * np.sqrt(p_hat * (1 - p_hat) / num_trials)\n",
    "    return (p_hat,(p_hat - delta, p_hat + delta))"
   ]
  },
  {
   "cell_type": "markdown",
   "id": "74bf03e8-b3e0-4fb0-9d7e-3ad40b583773",
   "metadata": {},
   "source": [
    "The functions `rand_small_table` and `rand_big_table` defined below return random datasets of the same shape as out arthritis dataset under the null hypothesis in which the outcome is independent of treatment. The `rand_small_table` returns data from a smaller cohort and the `rand_big_table` returns data from a larger cohort. "
   ]
  },
  {
   "cell_type": "code",
   "execution_count": 8,
   "id": "52e68788-f037-4a9c-a7e2-286857eef4f7",
   "metadata": {},
   "outputs": [],
   "source": [
    "_, _, _, expected = scipy.stats.chi2_contingency(outcome_tbl.to_numpy())\n",
    "\n",
    "def rand_small_table():\n",
    "    x = np.array(0)\n",
    "    while x.min() < 1:\n",
    "        x = scipy.stats.poisson.rvs(mu = np.array(0.5) * expected)\n",
    "    return x\n",
    "\n",
    "def rand_big_table():\n",
    "    x = np.array(0)\n",
    "    while x.min() < 1:\n",
    "        x = scipy.stats.poisson.rvs(mu = np.array(1.5) * expected)\n",
    "    return x"
   ]
  },
  {
   "cell_type": "markdown",
   "id": "0eabddc5-8a23-414b-b8a0-90d74fe55312",
   "metadata": {},
   "source": [
    "### Question\n",
    "\n",
    "Using the functions `estimate_and_ci`, and `rand_small_table` and `rand_big_table`, demonstrate how the $\\chi^{2}$-test will fail if the cell values are too small."
   ]
  },
  {
   "cell_type": "markdown",
   "id": "ba3bc109-4977-4153-9105-859d114228e5",
   "metadata": {},
   "source": [
    "### Answer\n",
    "\n",
    "The false positive test suggests that the test will not be powerful enough on smaller tables."
   ]
  },
  {
   "cell_type": "code",
   "execution_count": 9,
   "id": "748f2fb8-1627-44e7-8f9d-09b2d0af4b2f",
   "metadata": {},
   "outputs": [
    {
     "name": "stdout",
     "output_type": "stream",
     "text": [
      "(0.0846, (0.07914560347844053, 0.09005439652155946))\n"
     ]
    }
   ],
   "source": [
    "num_trials = 10000\n",
    "false_pos_count = 0\n",
    "for _ in range(num_trials):\n",
    "    x = rand_small_table()\n",
    "    _, p, _, _ = scipy.stats.chi2_contingency(x)\n",
    "    if p < 0.1:\n",
    "        false_pos_count+=1 \n",
    "print(estimate_and_ci(num_trials, false_pos_count))"
   ]
  }
 ],
 "metadata": {
  "kernelspec": {
   "display_name": "Python3 - python",
   "language": "python",
   "name": "ipython_python"
  },
  "language_info": {
   "codemirror_mode": {
    "name": "ipython",
    "version": 3
   },
   "file_extension": ".py",
   "mimetype": "text/x-python",
   "name": "python",
   "nbconvert_exporter": "python",
   "pygments_lexer": "ipython3",
   "version": "3.8.9"
  }
 },
 "nbformat": 4,
 "nbformat_minor": 5
}
