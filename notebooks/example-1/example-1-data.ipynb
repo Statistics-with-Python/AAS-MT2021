{
 "cells": [
  {
   "cell_type": "markdown",
   "metadata": {},
   "source": [
    "# Example 1 Data\n",
    "\n",
    "We start by loading some useful libraries in and some functionality to provide a more functional approach to programming."
   ]
  },
  {
   "cell_type": "code",
   "execution_count": 1,
   "metadata": {},
   "outputs": [],
   "source": [
    "import pandas as pd\n",
    "from scipy import stats\n",
    "import altair as alt\n",
    "from typing import List, Any, Tuple\n",
    "from functools import reduce\n",
    "import math as math"
   ]
  },
  {
   "cell_type": "markdown",
   "metadata": {},
   "source": [
    "We start by defining a function which generates a data frame of the results from a single individual when they have been asked to flip a coin a fixed number of time."
   ]
  },
  {
   "cell_type": "code",
   "execution_count": 2,
   "metadata": {},
   "outputs": [],
   "source": [
    "def random_flips(num_flips: int,\n",
    "                 prob_heads: float,\n",
    "                 person_id: int) -> pd.DataFrame:\n",
    "    coin_result = stats.bernoulli.rvs(p = prob_heads,\n",
    "                                      size = num_flips)\n",
    "    flip_number = range(1, num_flips + 1)\n",
    "    flipper_id = num_flips * [person_id]\n",
    "    return pd.DataFrame({\"name\": flipper_id,\n",
    "                         \"flip_number\": flip_number,\n",
    "                         \"outcome\": coin_result})"
   ]
  },
  {
   "cell_type": "markdown",
   "metadata": {},
   "source": [
    "Then we can wrap this in a function that does this for a group of people and puts all of the results into a single data frame."
   ]
  },
  {
   "cell_type": "code",
   "execution_count": 3,
   "metadata": {},
   "outputs": [],
   "source": [
    "def random_experiment(num_flips: int,\n",
    "                      person_ids: List[int],\n",
    "                      prob_heads_list: List[float]) -> pd.DataFrame:\n",
    "    rand_dfs = (random_flips(num_flips, prob, pid)\n",
    "                for (prob,pid) in zip(prob_heads_list,person_ids))\n",
    "    op = lambda df, x: df.append(x)\n",
    "    return reduce(op, rand_dfs, pd.DataFrame())"
   ]
  },
  {
   "cell_type": "markdown",
   "metadata": {},
   "source": [
    "Given the number of trials and the number of successes among those trials we can get an MLE for the probability of success and we can generate a Wald style confidence interval on the estimate. Note that we define a new type to make it clear what the result of this is."
   ]
  },
  {
   "cell_type": "code",
   "execution_count": 4,
   "metadata": {},
   "outputs": [],
   "source": [
    "EstimateAndCI = Tuple[float,Tuple[float,float]]\n",
    "\n",
    "def wald_estimate_and_ci(num_trials: int, num_success: int) -> EstimateAndCI:\n",
    "    p_hat = num_success / num_trials\n",
    "    z = 1.96\n",
    "    delta = z * math.sqrt(p_hat * (1 - p_hat) / num_trials)\n",
    "    return (p_hat,(p_hat - delta, p_hat + delta))"
   ]
  },
  {
   "cell_type": "markdown",
   "metadata": {},
   "source": [
    "The data set that we want will have a couple of outliers in it so that the audience has something interesting to find. We will also generate another false data set which leads to the correct point estimate but that has a structure which means that the binomial model is not appropriate. We will use two maps, `exp1` and `exp2`, to hold the specifics of each data set."
   ]
  },
  {
   "cell_type": "code",
   "execution_count": 5,
   "metadata": {},
   "outputs": [],
   "source": [
    "num_flips = 30\n",
    "\n",
    "exp1 = {\n",
    "    \"experiment\": 1,\n",
    "    \"num_people\": 15,\n",
    "    \"person_ids\": range(15),\n",
    "    \"num_outliers\": 2,\n",
    "    \"prob_heads\": 0.4,\n",
    "    \"output_csv\": \"experiment1.csv\"\n",
    "}\n",
    "\n",
    "exp2 = {\n",
    "    \"experiment\": 2,\n",
    "    \"num_people\": 50,\n",
    "    \"person_ids\": range(50),\n",
    "    \"prob_lower\": 0.2,\n",
    "    \"prob_upper\": 0.6,\n",
    "    \"output_csv\": \"experiment2.csv\"\n",
    "}"
   ]
  },
  {
   "cell_type": "markdown",
   "metadata": {},
   "source": [
    "## Experiment 1\n",
    "\n",
    "The last two people do not actually flip the coin, they just write heads for all trials."
   ]
  },
  {
   "cell_type": "code",
   "execution_count": 6,
   "metadata": {},
   "outputs": [],
   "source": [
    "prob_heads_1 = ((exp1[\"num_people\"] - exp1[\"num_outliers\"]) * [exp1[\"prob_heads\"]] + \n",
    "                exp1[\"num_outliers\"] * [1.0])\n",
    "\n",
    "results_1 = random_experiment(\n",
    "    num_flips,\n",
    "    exp1[\"person_ids\"],\n",
    "    prob_heads_1\n",
    ")\n",
    "\n",
    "results_1.to_csv(exp1[\"output_csv\"], index=False)"
   ]
  },
  {
   "cell_type": "markdown",
   "metadata": {},
   "source": [
    "## Experiment 2\n",
    "\n",
    "Everyone flips they coin that they are given, but the coins all have different probabilities of heads."
   ]
  },
  {
   "cell_type": "code",
   "execution_count": 7,
   "metadata": {},
   "outputs": [],
   "source": [
    "prob_inc = (exp2[\"prob_upper\"] - exp2[\"prob_lower\"]) / (exp2[\"num_people\"] - 1)\n",
    "prob_heads_2 = [exp2[\"prob_lower\"] + prob_inc * n \n",
    "                for n in range(exp2[\"num_people\"])]\n",
    "\n",
    "results_2 = random_experiment(\n",
    "    num_flips,\n",
    "    exp2[\"person_ids\"],\n",
    "    prob_heads_2\n",
    ")\n",
    "\n",
    "results_2.to_csv(exp2[\"output_csv\"], index=False)"
   ]
  }
 ],
 "metadata": {
  "kernelspec": {
   "display_name": "Python3 - python",
   "language": "python",
   "name": "ipython_python"
  },
  "language_info": {
   "codemirror_mode": {
    "name": "ipython",
    "version": 3
   },
   "file_extension": ".py",
   "mimetype": "text/x-python",
   "name": "python",
   "nbconvert_exporter": "python",
   "pygments_lexer": "ipython3",
   "version": "3.7.2"
  }
 },
 "nbformat": 4,
 "nbformat_minor": 2
}
