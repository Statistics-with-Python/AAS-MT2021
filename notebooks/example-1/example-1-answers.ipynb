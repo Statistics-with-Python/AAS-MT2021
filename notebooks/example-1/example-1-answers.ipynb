{
 "cells": [
  {
   "cell_type": "markdown",
   "metadata": {},
   "source": [
    "Example 1\n",
    "========="
   ]
  },
  {
   "cell_type": "markdown",
   "metadata": {},
   "source": [
    "This notebook is available on github\n",
    "[here](https://github.com/aezarebski/aas-extended-examples). If you find\n",
    "errors or would like to suggest an improvement, feel free to create an\n",
    "issue.\n",
    "\n",
    "As usual we will start by importing some useful libraries."
   ]
  },
  {
   "cell_type": "code",
   "execution_count": 1,
   "metadata": {},
   "outputs": [],
   "source": [
    "import pandas as pd\n",
    "import numpy as np\n",
    "import scipy.stats as stats\n",
    "import matplotlib.pyplot as plt"
   ]
  },
  {
   "cell_type": "markdown",
   "metadata": {},
   "source": [
    "Central limit theorem\n",
    "---------------------\n",
    "\n",
    "The central limit theorem (CLT) tells us about the limiting distribution\n",
    "of the sample mean for distribution for an independent and identically\n",
    "distributed (IID) sample with a finite variance. It underpins many\n",
    "results in statistics and is important for reasoning about stochastic\n",
    "processes."
   ]
  },
  {
   "cell_type": "markdown",
   "metadata": {},
   "source": [
    "### Question\n",
    "\n",
    "Write down a statement of the law of large numbers (LLN). Write down a\n",
    "statement of the central limit theorem. Make sure you understand what\n",
    "each of them tells you."
   ]
  },
  {
   "cell_type": "markdown",
   "metadata": {},
   "source": [
    "### Answer\n",
    "\n",
    "-   $\\hat{X}$ converges to $\\mu$.\n",
    "-   $\\sqrt{n}(\\hat{X} - \\mu) / \\sigma$ converges in distribution to the\n",
    "    standard normal distribution as the sample size increases.\n",
    "-   The LLN tells you what the limiting value is, the CLT tells you\n",
    "    about the fluctuations in the estimate."
   ]
  },
  {
   "cell_type": "markdown",
   "metadata": {},
   "source": [
    "Example: CLT\n",
    "------------\n",
    "\n",
    "To see that the distribution of the sample mean converges to a normal\n",
    "distribution we will do a simulation study."
   ]
  },
  {
   "cell_type": "markdown",
   "metadata": {},
   "source": [
    "### Question\n",
    "\n",
    "Write down the distribution of the sample mean given an IID sample of\n",
    "exponential random variables with rate $1/5$."
   ]
  },
  {
   "cell_type": "markdown",
   "metadata": {},
   "source": [
    "### Answer\n",
    "\n",
    "-   The mean of the exponential distribution is 5.\n",
    "-   The standard deviation of the exponential distribution is 5\n",
    "-   The CLT tells us the limiting distribution for the sample mean is\n",
    "    $N\\left(5,\\frac{5^2}{n}\\right)$"
   ]
  },
  {
   "cell_type": "markdown",
   "metadata": {},
   "source": [
    "### Question\n",
    "\n",
    "1.  Generate 500 sample means each based on a sample of 100 exponential\n",
    "    random variables\n",
    "2.  Make a visualisation of the distribution of the data (e.g., a KDE or\n",
    "    histogram) and overlay the CLT approximation."
   ]
  },
  {
   "cell_type": "markdown",
   "metadata": {},
   "source": [
    "### Answer"
   ]
  },
  {
   "cell_type": "code",
   "execution_count": 2,
   "metadata": {},
   "outputs": [
    {
     "data": {
      "image/png": "[encoded data removed]",
      "text/plain": [
       "<Figure size 432x288 with 1 Axes>"
      ]
     },
     "metadata": {
      "needs_background": "light"
     },
     "output_type": "display_data"
    }
   ],
   "source": [
    "sample_size = 200\n",
    "num_replicates = 500\n",
    "\n",
    "sample_means = [stats.expon.rvs(scale = 5, size = sample_size).mean()\n",
    "                for _ in range(num_replicates)]\n",
    "\n",
    "plot_df = pd.DataFrame({\"sample_mean\": sample_means})\n",
    "\n",
    "mesh_size = 200\n",
    "\n",
    "x_vals = np.linspace(3, 7, num=200)\n",
    "\n",
    "clt_scale = 5 / np.sqrt(sample_size)\n",
    "\n",
    "clt_df = pd.DataFrame(\n",
    "    {\n",
    "        \"x\": x_vals,\n",
    "        \"pdf\": stats.norm.pdf(x_vals, loc = 5, scale = clt_scale)\n",
    "    }\n",
    ")\n",
    "\n",
    "plt.figure()\n",
    "plt.hist(plot_df.sample_mean, density=True,  color=\"blue\")\n",
    "plt.plot(clt_df.x, clt_df.pdf, color=\"red\", linewidth=5)\n",
    "plt.xlabel(\"Sample mean\")\n",
    "plt.ylabel(\"Density\")\n",
    "plt.show()"
   ]
  },
  {
   "cell_type": "markdown",
   "metadata": {},
   "source": [
    "Estimating the mean of a small sample\n",
    "-------------------------------------\n",
    "\n",
    "If we have a sample from a normal distribution with sample mean $\\bar{x}$ and known the standard deviation, $\\sigma$, the $(1-\\alpha)100\\%$ CI for the estimate of the mean is\n",
    "\n",
    "$$\n",
    "\\bar{x} \\pm z_{\\alpha / 2} \\frac{\\sigma}{\\sqrt{n}}\n",
    "$$"
   ]
  },
  {
   "cell_type": "markdown",
   "metadata": {},
   "source": [
    "### Question\n",
    "\n",
    "Simulate a set of 5 draws from a $N(1,1)$ distribution and, assuming the standard deviation is known, check if the $95\\%$ CI contains the true mean."
   ]
  },
  {
   "cell_type": "markdown",
   "metadata": {},
   "source": [
    "### Answer"
   ]
  },
  {
   "cell_type": "code",
   "execution_count": 3,
   "metadata": {},
   "outputs": [
    {
     "name": "stdout",
     "output_type": "stream",
     "text": [
      "True\n"
     ]
    }
   ],
   "source": [
    "def f1():\n",
    "    n = 5\n",
    "    x_bar = stats.norm.rvs(loc = 1.0, scale = 1.0, size = n).mean()\n",
    "    z_a2 = stats.norm.ppf(0.975)\n",
    "    lower_lim = x_bar - z_a2 * 1.0 / np.sqrt(n)\n",
    "    upper_lim = x_bar + z_a2 * 1.0 / np.sqrt(n)\n",
    "    return lower_lim <= 1 and 1 <= upper_lim\n",
    "\n",
    "print(f1())"
   ]
  },
  {
   "cell_type": "markdown",
   "metadata": {},
   "source": [
    "### Question\n",
    "\n",
    "Now repeat this process 1000 times and check how many times it contains the true mean. Do you think the coverage of the CI will be correct?"
   ]
  },
  {
   "cell_type": "markdown",
   "metadata": {},
   "source": [
    "### Answer\n",
    "\n",
    "Because we have used the correct standard deviation this should get the coverage correct."
   ]
  },
  {
   "cell_type": "code",
   "execution_count": 4,
   "metadata": {},
   "outputs": [
    {
     "name": "stdout",
     "output_type": "stream",
     "text": [
      "0.954\n"
     ]
    }
   ],
   "source": [
    "good_ci_count = 0\n",
    "for _ in range(1000):\n",
    "    if f1():\n",
    "        good_ci_count += 1\n",
    "print(good_ci_count / 1000)"
   ]
  },
  {
   "cell_type": "markdown",
   "metadata": {},
   "source": [
    "### Question\n",
    "\n",
    "Now repeat this 1000-fold repetition using the sample standard deviation instead of the true standard deviation but treat it as though it is known, ie continue with $z_{\\alpha / 2}$. Do you think the coverage of the CI will be correct?"
   ]
  },
  {
   "cell_type": "markdown",
   "metadata": {},
   "source": [
    "### Answer\n",
    "\n",
    "Because we have not accounted for the additional uncertainty our CI will be too small and the coverage of the CI will not be as high as desired."
   ]
  },
  {
   "cell_type": "code",
   "execution_count": 5,
   "metadata": {},
   "outputs": [
    {
     "name": "stdout",
     "output_type": "stream",
     "text": [
      "0.882\n"
     ]
    }
   ],
   "source": [
    "def f2():\n",
    "    n = 5\n",
    "    random_sample = stats.norm.rvs(loc = 1.0, scale = 1.0, size = n)\n",
    "    x_bar = random_sample.mean()\n",
    "    s = np.sqrt(np.sum((random_sample - x_bar)**2) / (n-1))\n",
    "    z_a2 = stats.norm.ppf(0.975)\n",
    "    lower_lim = x_bar - z_a2 * s / np.sqrt(n)\n",
    "    upper_lim = x_bar + z_a2 * s / np.sqrt(n)\n",
    "    return lower_lim <= 1 and 1 <= upper_lim\n",
    "\n",
    "good_ci_count = 0\n",
    "for _ in range(1000):\n",
    "    if f2():\n",
    "        good_ci_count += 1\n",
    "print(good_ci_count / 1000)"
   ]
  },
  {
   "cell_type": "markdown",
   "metadata": {},
   "source": [
    "### Question\n",
    "\n",
    "Now repeat this process while accounting for the uncertainty in the standard deviation, ie use the $t_{\\alpha / 2}$. How many degrees of freedom are there in the _t_-distribution? Do you think the coverage of the CI will be correct?"
   ]
  },
  {
   "cell_type": "markdown",
   "metadata": {},
   "source": [
    "### Answer\n",
    "\n",
    "We use $n-1 = 4$ degrees of freedom in the _t_-distribution. The coverage should be correct because we are using the correct model."
   ]
  },
  {
   "cell_type": "code",
   "execution_count": 6,
   "metadata": {},
   "outputs": [
    {
     "name": "stdout",
     "output_type": "stream",
     "text": [
      "0.953\n"
     ]
    }
   ],
   "source": [
    "def f3():\n",
    "    n = 5\n",
    "    random_sample = stats.norm.rvs(loc = 1.0, scale = 1.0, size = n)\n",
    "    x_bar = random_sample.mean()\n",
    "    s = np.sqrt(np.sum((random_sample - x_bar)**2) / (n-1))\n",
    "    # here we use the t-distribution to understand the uncertainty.\n",
    "    df = n - 1\n",
    "    t_a2 = stats.t.ppf(0.975, df)\n",
    "    lower_lim = x_bar - t_a2 * s / np.sqrt(n)\n",
    "    upper_lim = x_bar + t_a2 * s / np.sqrt(n)\n",
    "    return lower_lim <= 1 and 1 <= upper_lim\n",
    "\n",
    "good_ci_count = 0\n",
    "for _ in range(1000):\n",
    "    if f3():\n",
    "        good_ci_count += 1\n",
    "print(good_ci_count / 1000)"
   ]
  },
  {
   "cell_type": "markdown",
   "metadata": {},
   "source": [
    "Testing the hypothesis that a coin is fair\n",
    "------------------------------------------\n",
    "\n",
    "There is an election to choose between candidate _A_ and candidate _B_. To win the election a candidate needs to get the majority of the votes. Candidate _B_ declared victory but there is suspicion that they cheated. A random sample of $n$ ballots had $m$ votes for _A_. We want to know if we can reject the null hypothesis that _B_ did in fact win."
   ]
  },
  {
   "cell_type": "markdown",
   "metadata": {},
   "source": [
    "### Question\n",
    "\n",
    "Would we reject the null if $n=100$ and $m=70$? "
   ]
  },
  {
   "cell_type": "markdown",
   "metadata": {},
   "source": [
    "### Answer\n",
    "\n",
    "The null hypothesis is $H_{0}: p_{B} > 1/2$. We can model the number of votes for _B_ as a binomial random variable with $n=100$ and $p=0.5$ and see how likely it is that _B_ got no more than 30 votes.\n",
    "\n",
    "The probability that _B_ got no more than 30 votes even if $p=0.5$ is very small. At a significancy level of $0.05$ we could reject the null hypothesis that _B_ did actually win."
   ]
  },
  {
   "cell_type": "code",
   "execution_count": 7,
   "metadata": {},
   "outputs": [
    {
     "data": {
      "text/plain": [
       "3.925069822796833e-05"
      ]
     },
     "execution_count": 7,
     "metadata": {},
     "output_type": "execute_result"
    }
   ],
   "source": [
    "stats.binom.cdf(k = 30, n = 100, p = 0.5)"
   ]
  },
  {
   "cell_type": "markdown",
   "metadata": {},
   "source": [
    "### Question\n",
    "\n",
    "If $n=100$, how small would $m$ need to be for us to not be able to reject the null using this test?"
   ]
  },
  {
   "cell_type": "markdown",
   "metadata": {},
   "source": [
    "### Answer\n",
    "\n",
    "If there were at least 42 votes for _B_, this test would not reject the null."
   ]
  },
  {
   "cell_type": "code",
   "execution_count": 8,
   "metadata": {},
   "outputs": [
    {
     "name": "stdout",
     "output_type": "stream",
     "text": [
      "42.0\n",
      "0.04431304005703377\n",
      "0.06660530960360676\n"
     ]
    }
   ],
   "source": [
    "print(stats.binom.ppf(0.05, n = 100, p = 0.5))\n",
    "print(stats.binom.cdf(k = 41, n = 100, p = 0.5))\n",
    "print(stats.binom.cdf(k = 42, n = 100, p = 0.5))"
   ]
  },
  {
   "cell_type": "markdown",
   "metadata": {},
   "source": [
    "Parameter estimation of the binomial distribution\n",
    "-------------------------------------------------\n",
    "\n",
    "We want to make an *estimate* the probability that a coin comes up\n",
    "heads. We also want to understand the level of confidence we have in\n",
    "this estimate; we use a *confidence interval* (CI) to describe the range\n",
    "of values we are confident the \\\"true\\\" probability of heads lies\n",
    "within.\n",
    "\n",
    "Binomial random variables can be used to model the number of times a\n",
    "coin comes up heads when flipped $n$ times. Let $X$ be a binomial random\n",
    "variable (RV) representing the number of heads that are observed when a\n",
    "coin is flipped $n$ times and the probability of coming up heads is $p$.\n",
    "We assume that $n$ is known but $p$ is unknown.\n",
    "\n",
    "The expected value of $X$, ie the average number of times that the coin\n",
    "comes up heads, is $np$. So a simple way to estimate $p$ is to divide\n",
    "the number of heads, $X$, by the number of flips, $n$. This gives the\n",
    "estimate\n",
    "\n",
    "$$\n",
    "\\hat{p} = X / n.\n",
    "$$\n",
    "\n",
    "This estimator is called the [the method of\n",
    "moments](https://en.wikipedia.org/wiki/Method_of_moments_(statistics)). This is\n",
    "also an example of a maximum likelihood estimate (MLE).\n",
    "\n",
    "Given an estimator, such as $\\hat{p}$, we usually want to quantify the\n",
    "uncertainty. One way to construct a CI is to approximate the sampling\n",
    "distribution by a normal distribution. It is a bit crude, but it is acceptable\n",
    "when we have lots of data. The estimated standard error of $\\hat{p}$ is\n",
    "$\\sqrt{\\hat{p}(1-\\hat{p})/n}$, so the CI is given by\n",
    "\n",
    "$$\n",
    "\\hat{p} \\pm z \\sqrt{\\frac{\\hat{p}(1-\\hat{p})}{n}}\n",
    "$$\n",
    "\n",
    "where $z$ is the appropriate quantile of the standard normal distribution. In\n",
    "the case of a $95\\%$ distribution this value is $1.96$."
   ]
  },
  {
   "cell_type": "markdown",
   "metadata": {},
   "source": [
    "### Question\n",
    "\n",
    "State the limitations on the estimator we are using for the CI."
   ]
  },
  {
   "cell_type": "markdown",
   "metadata": {},
   "source": [
    "### Answer\n",
    "\n",
    "The estimate assumes you have enough data to justify an asymptotic\n",
    "solution so is unlikely to be accurate for small datasets."
   ]
  },
  {
   "cell_type": "markdown",
   "metadata": {},
   "source": [
    "### Question\n",
    "\n",
    "Implement a function called `estimate_and_ci` which takes two\n",
    "arguments: `num_trials` which is $n$ in the description above, and\n",
    "`num_success` which is $X$ above. The function should return\n",
    "`(p_hat,(ci_lower,ci_upper))` where `p_hat` is $\\hat{p}$ and\n",
    "`ci_x` are the limits of the $95\\%$ CI."
   ]
  },
  {
   "cell_type": "markdown",
   "metadata": {},
   "source": [
    "### Answer"
   ]
  },
  {
   "cell_type": "code",
   "execution_count": 9,
   "metadata": {},
   "outputs": [],
   "source": [
    "def estimate_and_ci(num_trials, num_success):\n",
    "    p_hat = num_success / num_trials\n",
    "    z = 1.96\n",
    "    delta = z * np.sqrt(p_hat * (1 - p_hat) / num_trials)\n",
    "    return (p_hat,(p_hat - delta, p_hat + delta))"
   ]
  },
  {
   "cell_type": "markdown",
   "metadata": {},
   "source": [
    "### Question\n",
    "\n",
    "Simulate a binomial random variable with $n=100$ and $p=0.6$. Then use\n",
    "the value and the `estimate_and_ci` function to see how well you\n",
    "can estimate $p$. Write a couple of sentences to explain this.\n",
    "\n",
    "Recall that in a previous example we have looked at how to simulate\n",
    "random variables using `scipy.stats`."
   ]
  },
  {
   "cell_type": "markdown",
   "metadata": {},
   "source": [
    "### Question\n",
    "\n",
    "Repeat the process from the previous question 100000 times and see what\n",
    "proportion of the CIs capture the true value of $p$. Is it what you\n",
    "expect? Write a couple of sentences to explain what you found."
   ]
  },
  {
   "cell_type": "markdown",
   "metadata": {},
   "source": [
    "### Answer"
   ]
  },
  {
   "cell_type": "code",
   "execution_count": 10,
   "metadata": {},
   "outputs": [
    {
     "name": "stdout",
     "output_type": "stream",
     "text": [
      "0.94772\n"
     ]
    }
   ],
   "source": [
    "num_trials = 100\n",
    "num_repeats = 100000\n",
    "rand_xs = stats.binom.rvs(n = num_trials, p = 0.6, size = num_repeats)\n",
    "\n",
    "def ci_contains_value(ci, p):\n",
    "    lower,upper = ci\n",
    "    return lower < p and p < upper\n",
    "\n",
    "in_ci_count = 0\n",
    "for x in rand_xs:\n",
    "    _, ci = estimate_and_ci(num_trials, x)\n",
    "    if ci_contains_value(ci, 0.6):\n",
    "        in_ci_count += 1\n",
    "\n",
    "print(in_ci_count / num_repeats)"
   ]
  }
 ],
 "metadata": {
  "kernelspec": {
   "display_name": "Python3 - python",
   "language": "python",
   "name": "ipython_python"
  },
  "language_info": {
   "codemirror_mode": {
    "name": "ipython",
    "version": 3
   },
   "file_extension": ".py",
   "mimetype": "text/x-python",
   "name": "python",
   "nbconvert_exporter": "python",
   "pygments_lexer": "ipython3",
   "version": "3.8.9"
  }
 },
 "nbformat": 4,
 "nbformat_minor": 4
}
