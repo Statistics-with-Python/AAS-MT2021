{
 "cells": [
  {
   "cell_type": "markdown",
   "id": "092cf3e9-0a8a-457b-b55e-514970b65365",
   "metadata": {},
   "source": [
    "Example 2.9375\n",
    "==============\n",
    "\n",
    "This notebook is available on github\n",
    "[here](https://github.com/aezarebski/aas-extended-examples). If you find\n",
    "errors or would like to suggest an improvement, feel free to create an\n",
    "issue.\n",
    "\n",
    "As usual we will start by importing some useful libraries."
   ]
  },
  {
   "cell_type": "code",
   "execution_count": 1,
   "id": "264d814f-b5e5-4ea2-b9b6-6f2a5d473bc1",
   "metadata": {},
   "outputs": [],
   "source": [
    "%matplotlib inline\n",
    "import pandas as pd\n",
    "import numpy as np\n",
    "import scipy.stats as stats\n",
    "import statsmodels.api as sm\n",
    "import statsmodels.formula.api as smf\n",
    "import statsmodels.tools.tools as smt\n",
    "import matplotlib.pyplot as plt"
   ]
  },
  {
   "cell_type": "markdown",
   "id": "df8b102d-8cf4-44c9-ad3e-9f1eda6fbc1e",
   "metadata": {},
   "source": [
    "# Salaries for Professors\n",
    "\n",
    "The 2008-09 nine-month academic salary for Assistant Professors, Associate Professors and Professors in a college in the U.S. The data were collected as part of the on-going effort of the college's administration to monitor salary differences between male and female faculty members.\n",
    "\n",
    "- `rank` a factor with levels `AssocProf`` `AsstProf`` `Prof`.\n",
    "- `discipline` a factor with levels `A` (\"theoretical\" departments) or ``B`` (\"applied\" departments).\n",
    "- `yrs.since.phd` years since PhD.\n",
    "- `yrs.service` years of service.\n",
    "- `sex` a factor with levels `Female` `Male`.\n",
    "- `salary` nine-month salary, in dollars.\n"
   ]
  },
  {
   "cell_type": "code",
   "execution_count": 2,
   "id": "36a0698a-a5f3-41b0-b49b-65ef3eff3035",
   "metadata": {},
   "outputs": [],
   "source": [
    "salaries_dataset = sm.datasets.get_rdataset(\"Salaries\", \"carData\")\n",
    "#print(salaries_dataset.__doc__)\n",
    "salaries_df = salaries_dataset.data\n",
    "salaries_df = salaries_df.rename(columns={\"yrs.since.phd\": \"years_post_phd\", \"yrs.service\": \"years_service\", \"rank\": \"job\"})"
   ]
  },
  {
   "cell_type": "code",
   "execution_count": 3,
   "id": "fb774803-47d3-4a75-8805-4d00d15513a3",
   "metadata": {},
   "outputs": [
    {
     "name": "stdout",
     "output_type": "stream",
     "text": [
      "                            OLS Regression Results                            \n",
      "==============================================================================\n",
      "Dep. Variable:                 salary   R-squared:                       0.176\n",
      "Model:                            OLS   Adj. R-squared:                  0.174\n",
      "Method:                 Least Squares   F-statistic:                     84.23\n",
      "Date:                Wed, 01 Dec 2021   Prob (F-statistic):           2.50e-18\n",
      "Time:                        15:03:34   Log-Likelihood:                -4620.9\n",
      "No. Observations:                 397   AIC:                             9246.\n",
      "Df Residuals:                     395   BIC:                             9254.\n",
      "Df Model:                           1                                         \n",
      "Covariance Type:            nonrobust                                         \n",
      "==================================================================================\n",
      "                     coef    std err          t      P>|t|      [0.025      0.975]\n",
      "----------------------------------------------------------------------------------\n",
      "Intercept       9.172e+04   2765.792     33.162      0.000    8.63e+04    9.72e+04\n",
      "years_post_phd   985.3421    107.365      9.177      0.000     774.264    1196.421\n",
      "==============================================================================\n",
      "Omnibus:                       14.453   Durbin-Watson:                   1.841\n",
      "Prob(Omnibus):                  0.001   Jarque-Bera (JB):               15.806\n",
      "Skew:                           0.403   Prob(JB):                     0.000370\n",
      "Kurtosis:                       3.552   Cond. No.                         51.6\n",
      "==============================================================================\n",
      "\n",
      "Notes:\n",
      "[1] Standard Errors assume that the covariance matrix of the errors is correctly specified.\n"
     ]
    },
    {
     "data": {
      "image/png": "[encoded data removed]",
      "text/plain": [
       "<Figure size 432x288 with 1 Axes>"
      ]
     },
     "metadata": {
      "needs_background": "light"
     },
     "output_type": "display_data"
    }
   ],
   "source": [
    "lm_0 = smf.ols(formula=\"salary ~ years_post_phd\", data = salaries_df).fit()\n",
    "print(lm_0.summary())\n",
    "plt.figure()\n",
    "plt.scatter(salaries_df.salary, salaries_df.years_post_phd)\n",
    "plt.show()"
   ]
  },
  {
   "cell_type": "markdown",
   "id": "0fbab2e6-1466-4f9b-9ae9-fafbafff7b0a",
   "metadata": {},
   "source": [
    "If we colour these points based on the professors' ranks a very different pattern emerges"
   ]
  },
  {
   "cell_type": "code",
   "execution_count": 4,
   "id": "102cfb77-6c96-4aa5-bccd-4f6cbc4dac2e",
   "metadata": {},
   "outputs": [
    {
     "data": {
      "image/png": "[encoded data removed]",
      "text/plain": [
       "<Figure size 432x288 with 1 Axes>"
      ]
     },
     "metadata": {
      "needs_background": "light"
     },
     "output_type": "display_data"
    }
   ],
   "source": [
    "jobs = salaries_df[\"job\"].unique()\n",
    "\n",
    "    \n",
    "plt.figure()\n",
    "for job in jobs:\n",
    "    tmp = salaries_df[salaries_df[\"job\"] == job]\n",
    "    plt.scatter(tmp.years_post_phd, tmp.salary, label = job)\n",
    "plt.legend(title = \"Rank\", title_fontsize = \"large\")\n",
    "plt.xlabel(\"Years post PhD\", fontsize=\"large\")\n",
    "plt.ylabel(\"Salary\", fontsize=\"large\")\n",
    "plt.show()"
   ]
  },
  {
   "cell_type": "markdown",
   "id": "4a14f69b-d59e-4e2a-849a-ecb1f8fae2dc",
   "metadata": {},
   "source": [
    "### Question\n",
    "\n",
    "What assumption of the variance component model clearly does not hold for this data set?"
   ]
  },
  {
   "cell_type": "markdown",
   "id": "d9e09873-1ac3-47a6-8792-cabec50dda86",
   "metadata": {},
   "source": [
    "# Simulation\n",
    "\n",
    "Before we analyse this data we should familiarise ourselves with the functionality provided by `statsmodels`. To have a data set where we know the \"true\" values we will simulate a very similar dataset."
   ]
  },
  {
   "cell_type": "code",
   "execution_count": 6,
   "id": "cb5c4381-9940-4c67-b84e-d0d2924b1eb2",
   "metadata": {},
   "outputs": [],
   "source": [
    "demo_job = np.repeat(a=['Prof', 'AsstProf', 'AssocProf'], repeats=100)\n",
    "demo_ypp = np.concatenate(\n",
    "    (stats.poisson.rvs(30, size = 100),\n",
    "    stats.poisson.rvs(5, size = 100),\n",
    "    stats.poisson.rvs(15, size = 100)))\n",
    "\n",
    "demo_salary_means = [126772,80775,93876]\n",
    "demo_salary_scale = 15000\n",
    "demo_salary = stats.norm.rvs(loc = np.repeat(a=demo_salary_means, repeats=100), scale = demo_salary_scale, size = 300)\n",
    "\n",
    "demo_df = pd.DataFrame({'job': demo_job,\n",
    "                      'years_post_phd': demo_ypp,\n",
    "                       'salary': demo_salary})\n",
    "demo_df = smt.add_constant(demo_df)\n",
    "\n",
    "jobs = demo_df[\"job\"].unique()"
   ]
  },
  {
   "cell_type": "code",
   "execution_count": 7,
   "id": "4f9001fc-e9a7-462f-be51-b46aea80e3a9",
   "metadata": {},
   "outputs": [
    {
     "data": {
      "image/png": "[encoded data removed]",
      "text/plain": [
       "<Figure size 432x288 with 1 Axes>"
      ]
     },
     "metadata": {
      "needs_background": "light"
     },
     "output_type": "display_data"
    }
   ],
   "source": [
    "plt.figure()\n",
    "for job in jobs:\n",
    "    tmp = demo_df[demo_df[\"job\"] == job]\n",
    "    plt.scatter(tmp.years_post_phd, tmp.salary, label = job)\n",
    "plt.title(\"Simulated data\")\n",
    "plt.legend(title = \"Rank\", title_fontsize = \"large\")\n",
    "plt.xlabel(\"Years post PhD\", fontsize=\"large\")\n",
    "plt.ylabel(\"Salary\", fontsize=\"large\")\n",
    "plt.show()"
   ]
  },
  {
   "cell_type": "markdown",
   "id": "3c1959ad-f84f-4520-a761-046ea2e4408b",
   "metadata": {},
   "source": [
    "### Question\n",
    "\n",
    "As a way to get a rough idea of the components of the variance, estimate the variance among the known means and use it to compute the variance partition coefficient (VPC) for the simulated dataset. Obviously since we are estimating the variance based on a data set of size 3 we should not put too much faith in the results."
   ]
  },
  {
   "cell_type": "markdown",
   "id": "a1db6337-a731-4443-879d-556060ff106d",
   "metadata": {
    "tags": []
   },
   "source": [
    "To do MLM we need some additional libraries. The `MixedLM` class ([link](https://www.statsmodels.org/stable/generated/statsmodels.regression.mixed_linear_model.MixedLM.html#statsmodels.regression.mixed_linear_model.MixedLM)) is the one we will be interested in."
   ]
  },
  {
   "cell_type": "code",
   "execution_count": 9,
   "id": "870fc363-6883-40af-ba46-377123e9889c",
   "metadata": {
    "tags": []
   },
   "outputs": [],
   "source": [
    "import statsmodels.regression.mixed_linear_model as mlm"
   ]
  },
  {
   "cell_type": "markdown",
   "id": "0835310a-a6b1-4056-af8a-7eaaa3a14d60",
   "metadata": {},
   "source": [
    "### Question\n",
    "\n",
    "Write down a way to describe the salaries with a variance components model. What parameters will be estimated?"
   ]
  },
  {
   "cell_type": "markdown",
   "id": "ff56b6ce-03ae-4f35-a652-a030b59c07e9",
   "metadata": {},
   "source": [
    "### Question\n",
    "\n",
    "The following cell fits this model to the data. What are the estimated parameter values?\n",
    "\n",
    "Hint: Due to an odd choice of names, the \"Scale\" parameter in the summary is the individual level variance."
   ]
  },
  {
   "cell_type": "code",
   "execution_count": 10,
   "id": "98a5b84a-ef2b-4051-b0d9-6095476ca878",
   "metadata": {},
   "outputs": [
    {
     "data": {
      "text/html": [
       "<table class=\"simpletable\">\n",
       "<tr>\n",
       "       <td>Model:</td>       <td>MixedLM</td> <td>Dependent Variable:</td>     <td>salary</td>    \n",
       "</tr>\n",
       "<tr>\n",
       "  <td>No. Observations:</td>   <td>300</td>         <td>Method:</td>            <td>REML</td>     \n",
       "</tr>\n",
       "<tr>\n",
       "     <td>No. Groups:</td>       <td>3</td>          <td>Scale:</td>        <td>204305624.3905</td>\n",
       "</tr>\n",
       "<tr>\n",
       "  <td>Min. group size:</td>    <td>100</td>     <td>Log-Likelihood:</td>     <td>-3293.4138</td>  \n",
       "</tr>\n",
       "<tr>\n",
       "  <td>Max. group size:</td>    <td>100</td>       <td>Converged:</td>            <td>Yes</td>     \n",
       "</tr>\n",
       "<tr>\n",
       "  <td>Mean group size:</td>   <td>100.0</td>           <td></td>                  <td></td>       \n",
       "</tr>\n",
       "</table>\n",
       "<table class=\"simpletable\">\n",
       "<tr>\n",
       "      <td></td>          <th>Coef.</th>     <th>Std.Err.</th>    <th>z</th>   <th>P>|z|</th>  <th>[0.025</th>     <th>0.975]</th>  \n",
       "</tr>\n",
       "<tr>\n",
       "  <th>const</th>      <td>100587.861</td>   <td>13555.156</td> <td>7.421</td> <td>0.000</td> <td>74020.244</td> <td>127155.478</td>\n",
       "</tr>\n",
       "<tr>\n",
       "  <th>Group Var</th> <td>549183677.025</td> <td>38655.470</td>   <td></td>      <td></td>        <td></td>           <td></td>     \n",
       "</tr>\n",
       "</table>"
      ],
      "text/plain": [
       "<class 'statsmodels.iolib.summary2.Summary'>\n",
       "\"\"\"\n",
       "              Mixed Linear Model Regression Results\n",
       "==================================================================\n",
       "Model:              MixedLM   Dependent Variable:   salary        \n",
       "No. Observations:   300       Method:               REML          \n",
       "No. Groups:         3         Scale:                204305624.3905\n",
       "Min. group size:    100       Log-Likelihood:       -3293.4138    \n",
       "Max. group size:    100       Converged:            Yes           \n",
       "Mean group size:    100.0                                         \n",
       "------------------------------------------------------------------\n",
       "              Coef.      Std.Err.   z   P>|z|   [0.025    0.975]  \n",
       "------------------------------------------------------------------\n",
       "const        100587.861 13555.156 7.421 0.000 74020.244 127155.478\n",
       "Group Var 549183677.025 38655.470                                 \n",
       "==================================================================\n",
       "\n",
       "\"\"\""
      ]
     },
     "execution_count": 10,
     "metadata": {},
     "output_type": "execute_result"
    }
   ],
   "source": [
    "mlm_0 = mlm.MixedLM(endog = demo_df.salary, exog = demo_df[[\"const\"]], groups = demo_df.job).fit()\n",
    "mlm_0.summary()"
   ]
  },
  {
   "cell_type": "markdown",
   "id": "95842b42-97ba-47cf-82ca-2128423a22dd",
   "metadata": {},
   "source": [
    "### Question\n",
    "\n",
    "Does this look reasonable?"
   ]
  },
  {
   "cell_type": "markdown",
   "id": "e848caac-30a0-48b9-abb6-c2c082d730ac",
   "metadata": {},
   "source": [
    "### Question\n",
    "\n",
    "Compute the VPC from the model fit. Does it agree with the previous estimate?"
   ]
  },
  {
   "cell_type": "markdown",
   "id": "e71bf9c4-9b0f-45cb-a2cc-7c3ec9b52f11",
   "metadata": {},
   "source": [
    "### Question\n",
    "\n",
    "Test whether including the effects of job is important in this model."
   ]
  },
  {
   "cell_type": "markdown",
   "id": "dd7b3ed8-0f15-4430-990a-95f57d6f9c15",
   "metadata": {},
   "source": [
    "### Question \n",
    "\n",
    "Fit the model including the `years_post_phd` as a covariate. Does this parameter have a significant association?"
   ]
  },
  {
   "cell_type": "markdown",
   "id": "613ffb3a-7af4-4b2f-96cf-8591024be43a",
   "metadata": {},
   "source": [
    "### Question\n",
    "\n",
    "Apply the methodology above to establish if `years_post_phd` has a significant association with a Professor's salary while adjusting for random job-specific effects."
   ]
  },
  {
   "cell_type": "markdown",
   "id": "15bbad94-b692-4f3c-9174-3afc7bed9e3e",
   "metadata": {},
   "source": [
    "### Question\n",
    "\n",
    "How much of the variance is explained by the professors rank?"
   ]
  }
 ],
 "metadata": {
  "kernelspec": {
   "display_name": "Python3 - python",
   "language": "python",
   "name": "ipython_python"
  },
  "language_info": {
   "codemirror_mode": {
    "name": "ipython",
    "version": 3
   },
   "file_extension": ".py",
   "mimetype": "text/x-python",
   "name": "python",
   "nbconvert_exporter": "python",
   "pygments_lexer": "ipython3",
   "version": "3.8.9"
  }
 },
 "nbformat": 4,
 "nbformat_minor": 5
}
