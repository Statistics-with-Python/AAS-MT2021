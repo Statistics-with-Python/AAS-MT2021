{
 "cells": [
  {
   "cell_type": "markdown",
   "id": "e9b7bad0-b7ee-4849-9ce5-267c1e134a15",
   "metadata": {},
   "source": [
    "# Example 0.5\n",
    "\n",
    "In this notebook we will look at calculating and presenting some descriptive statistics. There are lots of great datasets freely available online. The dataset we will use comes from the 1994 US census and is available as part of the UCI Machine Learning Repository: http://archive.ics.uci.edu/ml/datasets/Adult"
   ]
  },
  {
   "cell_type": "code",
   "execution_count": 2,
   "id": "e0df2692-a8ba-413f-94c8-ad3b0bf648bb",
   "metadata": {},
   "outputs": [],
   "source": [
    "import pandas as pd\n",
    "import numpy as np\n",
    "import matplotlib.pyplot as plt"
   ]
  },
  {
   "cell_type": "markdown",
   "id": "80884cca-798b-4411-9a62-925852f24372",
   "metadata": {},
   "source": [
    "We will start by reading in the data and ensuring that the column names have been specified correctly. In this case the data is in the `adult.data` file, which is a CSV, and the meta-data, the column names, is in `adult.header`. Sometimes these data are combined in a single file, sometimes they are separate."
   ]
  },
  {
   "cell_type": "code",
   "execution_count": 6,
   "id": "99ab5c19-bc1e-48e5-aa8b-4182ff4d51fd",
   "metadata": {},
   "outputs": [],
   "source": [
    "header_file = \"adult.header\"\n",
    "data_file = \"adult.data\"\n",
    "\n",
    "with open(header_file) as f:\n",
    "    header = f.readlines()[0].split(',')\n",
    "\n",
    "df = pd.read_table(data_file, delimiter = \",\", names=header)"
   ]
  },
  {
   "cell_type": "markdown",
   "id": "a52da481-bca7-4e7c-93bc-c437558264f2",
   "metadata": {},
   "source": [
    "Word processor software will typically have functionality for creating tables. Often when working with code it is useful to be able to construct a table in plain text. An excellent tool for creating tables for LaTeX, HTML or Markdown is [Tables Generator](https://www.tablesgenerator.com/)."
   ]
  },
  {
   "cell_type": "markdown",
   "id": "876d5105-9517-47a7-9345-b05fdefbf6e2",
   "metadata": {},
   "source": [
    "## Question\n",
    "\n",
    "Fill in the values in the following table\n",
    "\n",
    "| Variable                            | Value |\n",
    "|-------------------------------------|:-----:|\n",
    "| Number, _N_                         |   ?   |\n",
    "| Sex, female, _N_ (%)                | ? (?) |\n",
    "| Age [years], mean (SD)              | ? (?) |\n",
    "| Hours worked per week, median (IQR) | ? (?) |\n",
    "\n",
    "If this seems too easy, why not try generate the text for a markdown table too!\n",
    "\n",
    "- [hint](https://pandas.pydata.org/pandas-docs/stable/reference/api/pandas.Series.value_counts.html)\n",
    "- [hint](https://pandas.pydata.org/pandas-docs/stable/reference/api/pandas.Series.quantile.html)"
   ]
  },
  {
   "cell_type": "code",
   "execution_count": 22,
   "id": "24332a5f-2104-4dfc-b935-938bed9d64f3",
   "metadata": {},
   "outputs": [
    {
     "data": {
      "text/plain": [
       "'33.08'"
      ]
     },
     "execution_count": 22,
     "metadata": {},
     "output_type": "execute_result"
    }
   ],
   "source": [
    "df.shape[0]\n",
    "'{:.2f}'.format(df[df['sex'] == ' Female'].shape[0]/df.shape[0]*100)\n"
   ]
  },
  {
   "cell_type": "code",
   "execution_count": 18,
   "id": "7c258b50-6b07-41b0-89d3-533fbc83b0cf",
   "metadata": {},
   "outputs": [
    {
     "data": {
      "text/plain": [
       "array([' Male', ' Female'], dtype=object)"
      ]
     },
     "execution_count": 18,
     "metadata": {},
     "output_type": "execute_result"
    }
   ],
   "source": [
    "df['sex'].unique()"
   ]
  },
  {
   "cell_type": "markdown",
   "id": "fd3f87e0-25a8-46eb-928f-03ef36358cb6",
   "metadata": {},
   "source": [
    "## Question\n",
    "\n",
    "Create a histogram of the ages with 70 bins. What do you notice?\n",
    "\n",
    "- [hint](https://matplotlib.org/stable/api/_as_gen/matplotlib.pyplot.hist.html)"
   ]
  },
  {
   "cell_type": "markdown",
   "id": "5dd21e7a-fb8f-4f53-926b-21c378ddc377",
   "metadata": {},
   "source": [
    "## Question\n",
    "\n",
    "Create another histogram, this time ensure that there is only a single age per column. On top of the histogram draw vertical lines representing the mean and plus/minus two standard deviations. What do you notice?"
   ]
  },
  {
   "cell_type": "markdown",
   "id": "71c371a7-91d7-436f-ae34-dd6b035bbad5",
   "metadata": {},
   "source": [
    "## Question\n",
    "\n",
    "Create a boxplot of the ages for females and males. What statistics are used to compute the size of the box, the midline, and the whiskers and points? Given the histogram above, can you predict what it will look like?"
   ]
  },
  {
   "cell_type": "markdown",
   "id": "b14d6d4b-674b-4a88-9466-adbb1f85b37c",
   "metadata": {},
   "source": [
    "## Question\n",
    "\n",
    "Draw a Tufte style boxplot of the same data. For example, in one variation (of many) the midline is replaced by a point, the box is omitted and the whiskers extend to the most extreme points.\n",
    "\n",
    "- [hint](https://jrnold.github.io/ggthemes/reference/geom_tufteboxplot.html)"
   ]
  }
 ],
 "metadata": {
  "kernelspec": {
   "display_name": "Python 3",
   "language": "python",
   "name": "python3"
  },
  "language_info": {
   "codemirror_mode": {
    "name": "ipython",
    "version": 3
   },
   "file_extension": ".py",
   "mimetype": "text/x-python",
   "name": "python",
   "nbconvert_exporter": "python",
   "pygments_lexer": "ipython3",
   "version": "3.7.11"
  }
 },
 "nbformat": 4,
 "nbformat_minor": 5
}
