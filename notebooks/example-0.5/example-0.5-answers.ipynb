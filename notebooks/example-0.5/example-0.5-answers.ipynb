{
 "cells": [
  {
   "cell_type": "markdown",
   "id": "177ef72a",
   "metadata": {},
   "source": [
    "# Stages of statistical analysis"
   ]
  },
  {
   "cell_type": "markdown",
   "id": "98759cc0",
   "metadata": {},
   "source": [
    "## Question\n",
    "\n",
    "What are the stages of statistical investigation?"
   ]
  },
  {
   "cell_type": "markdown",
   "id": "9a70294d",
   "metadata": {},
   "source": [
    "## Answer\n",
    "\n",
    "* See \"_Problem Solving a Statistician’s Guide - Christopher Chatfield_\".\n",
    "\n",
    "**Formulating the problem.** \n",
    "\n",
    "* Make sure you understand the problem and then formulate it In statistical terms. Clarify the objectives of the investigation very carefully.\n",
    "\n",
    "\n",
    "**Collecting data**\n",
    "\n",
    "* Plan the investigation and collect the data in an appropriate way. It is important to achieve a fair balance between the effort needed to collect the data and to analyse them. The method of collection is crucial to the ensuing analysis. For example, data from a designed experiment are quite different in kind to those resulting from a  pure observational study.\n",
    "\n",
    "\n",
    "**Analysis**\n",
    "\n",
    "* _Exploratory Data Analysis._ Assess the structure and quality of the data. Scrutinize the data for errors, outliers and missing values. Modify the data if necessary, far example by transforming one or more variables. Carry out an initial examination of the data to obtain summary descriptive statistics and perhaps get ideas for a more formal analysis (Chapter 6). In particular guidance on model formulation may be obtained.\n",
    "\n",
    "* _Formal analysis._ Select and carry out an appropriate formal statistical procedure to analyse the data. Such procedures often assurne a particular model structure, and may involve estimating the model parameters, and testing hypotheses about the model. The fitted model needs to be evaluated by looking at the residuals from the model to see if it needs to be modified or refined.\n",
    "\n",
    "\n",
    "**Results and interpretation**\n",
    "\n",
    "* Compare the findings with any previous results and acquire further data if necessary.\n",
    "\n",
    "* Interpret and communicate the results. The findings may need to be understood by both statisticians and non-statisticians, and extra care is needed in the presentation of graphs, summary tables and computer output."
   ]
  },
  {
   "cell_type": "markdown",
   "id": "e9b7bad0-b7ee-4849-9ce5-267c1e134a15",
   "metadata": {},
   "source": [
    "# Example 0.5\n",
    "\n",
    "In this notebook we will look at calculating and presenting some descriptive statistics. There are lots of great datasets freely available online. The dataset we will use comes from the 1994 US census and is available as part of the UCI Machine Learning Repository: http://archive.ics.uci.edu/ml/datasets/Adult"
   ]
  },
  {
   "cell_type": "code",
   "execution_count": 1,
   "id": "e0df2692-a8ba-413f-94c8-ad3b0bf648bb",
   "metadata": {},
   "outputs": [],
   "source": [
    "import pandas as pd\n",
    "import numpy as np\n",
    "import matplotlib.pyplot as plt"
   ]
  },
  {
   "cell_type": "markdown",
   "id": "80884cca-798b-4411-9a62-925852f24372",
   "metadata": {},
   "source": [
    "We will start by reading in the data and ensuring that the column names have been specified correctly. In this case the data is in the `adult.data` file, which is a CSV, and the meta-data, the column names, is in `adult.header`. Sometimes these data are combined in a single file, sometimes they are separate."
   ]
  },
  {
   "cell_type": "code",
   "execution_count": 2,
   "id": "99ab5c19-bc1e-48e5-aa8b-4182ff4d51fd",
   "metadata": {},
   "outputs": [],
   "source": [
    "header_file = \"adult.header\"\n",
    "data_file = \"adult.data\"\n",
    "\n",
    "with open(header_file) as f:\n",
    "    header = f.readlines()[0].split(',')\n",
    "\n",
    "df = pd.read_table(data_file, delimiter = \",\", names=header)"
   ]
  },
  {
   "cell_type": "markdown",
   "id": "a52da481-bca7-4e7c-93bc-c437558264f2",
   "metadata": {},
   "source": [
    "Word processor software will typically have functionality for creating tables. Often when working with code it is useful to be able to construct a table in plain text. An excellent tool for creating tables for LaTeX, HTML or Markdown is [Tables Generator](https://www.tablesgenerator.com/)."
   ]
  },
  {
   "cell_type": "markdown",
   "id": "876d5105-9517-47a7-9345-b05fdefbf6e2",
   "metadata": {},
   "source": [
    "## Question\n",
    "\n",
    "Fill in the values in the following table\n",
    "\n",
    "| Variable                            | Value |\n",
    "|-------------------------------------|:-----:|\n",
    "| Number, _N_                         |   ?   |\n",
    "| Sex, female, _N_ (%)                | ? (?) |\n",
    "| Age [years], mean (SD)              | ? (?) |\n",
    "| Hours worked per week, median (IQR) | ? (?) |\n",
    "\n",
    "If this seems too easy, why not try generate the text for a markdown table too!\n",
    "\n",
    "- [hint](https://pandas.pydata.org/pandas-docs/stable/reference/api/pandas.Series.value_counts.html)\n",
    "- [hint](https://pandas.pydata.org/pandas-docs/stable/reference/api/pandas.Series.quantile.html)"
   ]
  },
  {
   "cell_type": "markdown",
   "id": "8e26034d-ec6c-496d-9c76-d7f6f65f7af6",
   "metadata": {},
   "source": [
    "## Answer\n",
    "\n",
    "| Variable                            | Value |\n",
    "|-------------------------------------|:-----:|\n",
    "| Number, _N_                         |   32561   |\n",
    "| Sex, female, _N_ (%)                | 10771 (33.1) |\n",
    "| Age [years], mean (SD)              | 38.6 (13.6) |\n",
    "| Hours worked per week, median (IQR) | 40 (5) |"
   ]
  },
  {
   "cell_type": "code",
   "execution_count": 3,
   "id": "e30537c7-b318-408f-84e0-d13f0cd38973",
   "metadata": {},
   "outputs": [
    {
     "name": "stdout",
     "output_type": "stream",
     "text": [
      "The number of records is 32561\n",
      "The number of records with sex as female is 10771 (0.33079450876815825)\n",
      "The mean age is 38.58164675532078 with a standard deviation of 13.640432553581146\n",
      "The median hours per week worked is 40.0 with an IQR of 5.0\n"
     ]
    }
   ],
   "source": [
    "print(\"The number of records is {num_records}\".format(num_records = df.shape[0]))\n",
    "print(\"The number of records with sex as female is {num_female} ({percentage})\".format(num_female = df.sex.value_counts()[' Female'], percentage = df.sex.value_counts()[' Female'] / df.shape[0]))\n",
    "print(\"The mean age is {mean_age} with a standard deviation of {age_std}\".format(mean_age = df.age.mean(), age_std = df.age.std()))\n",
    "\n",
    "hpw_quantiles = dict(df['hours-per-week'].quantile([0.25,0.5,0.75]))\n",
    "hpw_iqr = hpw_quantiles[0.75] - hpw_quantiles[0.25]\n",
    "print(\"The median hours per week worked is {median_hpw} with an IQR of {iqr_hpw}\".format(median_hpw = hpw_quantiles[0.5], iqr_hpw = hpw_iqr))"
   ]
  },
  {
   "cell_type": "markdown",
   "id": "fd3f87e0-25a8-46eb-928f-03ef36358cb6",
   "metadata": {},
   "source": [
    "## Question\n",
    "\n",
    "Create a histogram of the ages with 70 bins. What do you notice?\n",
    "\n",
    "- [hint](https://matplotlib.org/stable/api/_as_gen/matplotlib.pyplot.hist.html)"
   ]
  },
  {
   "cell_type": "markdown",
   "id": "f87eb229-c8fd-4f66-815d-88d1569b5ffb",
   "metadata": {},
   "source": [
    "## Answer\n",
    "\n",
    "Using 70 bins leads to several bins containing two ages while the others contain only one. This obscures the true distribution. Whenever you are using histograms you need to be careful with the number of bins used."
   ]
  },
  {
   "cell_type": "code",
   "execution_count": 4,
   "id": "ed21f4ae-c54a-4eb8-867a-20705e8c00f1",
   "metadata": {},
   "outputs": [
    {
     "data": {
      "image/png": "[encoded data removed]",
      "text/plain": [
       "<Figure size 432x288 with 1 Axes>"
      ]
     },
     "metadata": {
      "needs_background": "light"
     },
     "output_type": "display_data"
    }
   ],
   "source": [
    "plt.figure()\n",
    "plt.hist(df.age, bins = 70)\n",
    "plt.xlabel(\"Age\")\n",
    "plt.ylabel(\"Frequency\")\n",
    "plt.show()"
   ]
  },
  {
   "cell_type": "markdown",
   "id": "5dd21e7a-fb8f-4f53-926b-21c378ddc377",
   "metadata": {},
   "source": [
    "## Question\n",
    "\n",
    "Create another histogram, this time ensure that there is only a single age per column. On top of the histogram draw vertical lines representing the mean and plus/minus two standard deviations. What do you notice?"
   ]
  },
  {
   "cell_type": "markdown",
   "id": "151c003d-c0de-462e-899e-6629b4152fa8",
   "metadata": {},
   "source": [
    "## Answer\n",
    "\n",
    "We can provide the bins manually as in the example below. Looking at the mean and two standard emphasises that the data is not normally distributed despite having a vague bell shape."
   ]
  },
  {
   "cell_type": "code",
   "execution_count": 5,
   "id": "829adc87-9e9b-48d2-9051-9b18524c5cba",
   "metadata": {},
   "outputs": [
    {
     "data": {
      "image/png": "[encoded data removed]",
      "text/plain": [
       "<Figure size 432x288 with 1 Axes>"
      ]
     },
     "metadata": {
      "needs_background": "light"
     },
     "output_type": "display_data"
    }
   ],
   "source": [
    "bin_breaks = np.linspace(start = df.age.min() - 0.5,\n",
    "                         stop = df.age.max() + 0.5,\n",
    "                         num = df.age.max() - df.age.min() + 2)\n",
    "\n",
    "plt.figure()\n",
    "plt.hist(df.age, bins = bin_breaks, density = False)\n",
    "plt.vlines(df.age.mean(), 0, 1000, color = 'r')\n",
    "plt.vlines([df.age.mean() - 2 * df.age.std(), df.age.mean() + 2 * df.age.std()], 0, 1000, color = 'r', linestyle='dashed')\n",
    "plt.xlabel(\"Age\")\n",
    "plt.ylabel(\"Frequency\")\n",
    "plt.show()"
   ]
  },
  {
   "cell_type": "markdown",
   "id": "71c371a7-91d7-436f-ae34-dd6b035bbad5",
   "metadata": {},
   "source": [
    "## Question\n",
    "\n",
    "Create a boxplot of the ages for females and males. What statistics are used to compute the size of the box, the midline, and the whiskers and points? Given the histogram above, can you predict what it will look like?"
   ]
  },
  {
   "cell_type": "markdown",
   "id": "9c6d03a6-ab43-4008-a4e2-60c5a266415d",
   "metadata": {},
   "source": [
    "## Answer\n",
    "\n",
    "The midline is the median, the box extends to the first and third quantiles and the whiskers extend to the furthest datapoint within 1.5 IQR of the box. Points beyond the whiskers are represented by points. Given the long tail in the histogram it is not surprising that there are \"outliers\" at the high age end."
   ]
  },
  {
   "cell_type": "code",
   "execution_count": 6,
   "id": "47ccf94b-da3f-48cf-bb64-401d7beb81dd",
   "metadata": {},
   "outputs": [
    {
     "data": {
      "image/png": "[encoded data removed]",
      "text/plain": [
       "<Figure size 432x288 with 1 Axes>"
      ]
     },
     "metadata": {
      "needs_background": "light"
     },
     "output_type": "display_data"
    }
   ],
   "source": [
    "unique_sex = df.sex.unique()\n",
    "age_grouped = [df[df.sex == sex]['age'] for sex in unique_sex]\n",
    "\n",
    "plt.figure()\n",
    "plt.boxplot(x = age_grouped, labels = unique_sex)\n",
    "plt.ylabel(\"Age\")\n",
    "plt.show()"
   ]
  },
  {
   "cell_type": "markdown",
   "id": "b14d6d4b-674b-4a88-9466-adbb1f85b37c",
   "metadata": {},
   "source": [
    "## Question\n",
    "\n",
    "Draw a Tufte style boxplot of the same data. For example, in one variation (of many) the midline is replaced by a point, the box is omitted and the whiskers extend to the most extreme points.\n",
    "\n",
    "- [hint](https://jrnold.github.io/ggthemes/reference/geom_tufteboxplot.html)"
   ]
  },
  {
   "cell_type": "markdown",
   "id": "5bd40183-5180-4d57-bc79-29a6b4132f94",
   "metadata": {},
   "source": [
    "## Answer"
   ]
  },
  {
   "cell_type": "code",
   "execution_count": 7,
   "id": "5ba9d47c-18f1-42f3-aea9-f7a4b5d67433",
   "metadata": {},
   "outputs": [
    {
     "data": {
      "image/png": "[encoded data removed]",
      "text/plain": [
       "<Figure size 432x288 with 1 Axes>"
      ]
     },
     "metadata": {
      "needs_background": "light"
     },
     "output_type": "display_data"
    }
   ],
   "source": [
    "plt.figure()\n",
    "plt.scatter(x = unique_sex, y = [d.median() for d in age_grouped], color = 'k')\n",
    "for sex, data in zip(unique_sex, age_grouped):\n",
    "    plt.plot([sex,sex], [data.min(), data.quantile(0.25)], color = 'k')\n",
    "    plt.plot([sex,sex], [data.max(), data.quantile(0.75)], color = 'k')\n",
    "plt.ylabel(\"Age\")\n",
    "plt.show()"
   ]
  }
 ],
 "metadata": {
  "kernelspec": {
   "display_name": "Python 3",
   "language": "python",
   "name": "python3"
  },
  "language_info": {
   "codemirror_mode": {
    "name": "ipython",
    "version": 3
   },
   "file_extension": ".py",
   "mimetype": "text/x-python",
   "name": "python",
   "nbconvert_exporter": "python",
   "pygments_lexer": "ipython3",
   "version": "3.9.4"
  }
 },
 "nbformat": 4,
 "nbformat_minor": 5
}
