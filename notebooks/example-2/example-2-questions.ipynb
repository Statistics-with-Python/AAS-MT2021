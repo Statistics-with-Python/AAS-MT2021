{
 "cells": [
  {
   "cell_type": "markdown",
   "id": "2cca9e24-0d3e-480e-81db-bc4f02e3e364",
   "metadata": {},
   "source": [
    "Example 2\n",
    "=========\n",
    "\n",
    "This notebook is available on github\n",
    "[here](https://github.com/aezarebski/aas-extended-examples). If you find\n",
    "errors or would like to suggest an improvement, feel free to create an\n",
    "issue.\n",
    "\n",
    "As usual we will start by importing some useful libraries."
   ]
  },
  {
   "cell_type": "code",
   "execution_count": 1,
   "id": "b7c9d48c-39e7-448d-8a5b-55f8c2e29844",
   "metadata": {},
   "outputs": [],
   "source": [
    "%matplotlib inline\n",
    "import pandas as pd\n",
    "import numpy as np\n",
    "import scipy.stats as stats\n",
    "import statsmodels.api as sm\n",
    "import statsmodels.formula.api as smf\n",
    "import matplotlib.pyplot as plt"
   ]
  },
  {
   "cell_type": "markdown",
   "id": "4ea73615-e928-43f4-8aa3-993afbcc5645",
   "metadata": {},
   "source": [
    "The data in `data-auto.csv` is a popular dataset of car characteristics. We will be looking at the horsepower and miles per gallon (MPG) obtained by these cars. The model we will consider in this notebook is a simple linear regression:\n",
    "\n",
    "$$\n",
    "\\text{mpg}_{i} = \\alpha + \\beta \\text{horsepower}_{i} + \\epsilon_{i}\n",
    "$$\n",
    "\n",
    "where the $\\epsilon_{i}$ are IID normal fluctuations. We will estimate the parameters $\\alpha$ and $\\beta$."
   ]
  },
  {
   "cell_type": "code",
   "execution_count": 2,
   "id": "d009dd50-452a-4d6a-af1a-cda0f780718e",
   "metadata": {},
   "outputs": [],
   "source": [
    "df = pd.read_csv(\"data-auto.csv\")\n",
    "\n",
    "y = df[\"mpg\"].to_numpy()\n",
    "x = df[\"horsepower\"].to_numpy()\n",
    "y_bar = y.mean()\n",
    "x_bar = x.mean()"
   ]
  },
  {
   "cell_type": "markdown",
   "id": "64b8edb3-70b2-40dc-b945-89cdb41c2364",
   "metadata": {},
   "source": [
    "### Question\n",
    "\n",
    "Plot the horsepower and MPG, describe the relationship between these variables."
   ]
  },
  {
   "cell_type": "markdown",
   "id": "58d2e612-da7e-4408-9278-0448230533cc",
   "metadata": {},
   "source": [
    "### Question\n",
    "\n",
    "Using the formula you saw in lectures, calculate the least squares estimates $\\hat{\\beta}$ and $\\hat{\\alpha}$"
   ]
  },
  {
   "cell_type": "markdown",
   "id": "b449825c-546e-47f1-ae18-7c13b2aac391",
   "metadata": {},
   "source": [
    "### Question\n",
    "\n",
    "Using your parameter estimates, calculate the expected values for the MPG, $\\hat{y}_{i}$, and the residuals, $e_{i}$."
   ]
  },
  {
   "cell_type": "markdown",
   "id": "158fda9a-1f7a-41b3-a379-eefa9f1a7879",
   "metadata": {},
   "source": [
    "### Question\n",
    "\n",
    "Plot the model fit and the residuals. Are the assumptions (linearity, constant variance and independenc) of the model valid? What does the model predict would be the MPG for a car with the power of 400 horses?"
   ]
  },
  {
   "cell_type": "markdown",
   "id": "0b69b3b7-9d58-4651-a988-eb6ae842a0a2",
   "metadata": {},
   "source": [
    "### Question\n",
    "\n",
    "Calculate the correlation coeffient, and $R^{2}$."
   ]
  },
  {
   "cell_type": "markdown",
   "id": "3b40a5d2-6acd-46a3-a047-1ee27200757e",
   "metadata": {},
   "source": [
    "### Question\n",
    "\n",
    "Calculate the confidence intervals on your estimates. Is the result significant?"
   ]
  },
  {
   "cell_type": "markdown",
   "id": "b580f545-3869-47c0-811e-120ba60a4feb",
   "metadata": {},
   "source": [
    "### `statsmodels`\n",
    "\n",
    "We are finally ready to use the `statsmodel` package. In the following code we perform ordinary least squares regression and print out a summary. You can see that all of the estimates agree with those we calculated above."
   ]
  },
  {
   "cell_type": "code",
   "execution_count": 9,
   "id": "fcafe205-4124-473a-81ec-9d46300ab2c1",
   "metadata": {},
   "outputs": [
    {
     "name": "stdout",
     "output_type": "stream",
     "text": [
      "                            OLS Regression Results                            \n",
      "==============================================================================\n",
      "Dep. Variable:                    mpg   R-squared:                       0.606\n",
      "Model:                            OLS   Adj. R-squared:                  0.605\n",
      "Method:                 Least Squares   F-statistic:                     599.7\n",
      "Date:                Tue, 02 Nov 2021   Prob (F-statistic):           7.03e-81\n",
      "Time:                        19:44:45   Log-Likelihood:                -1178.7\n",
      "No. Observations:                 392   AIC:                             2361.\n",
      "Df Residuals:                     390   BIC:                             2369.\n",
      "Df Model:                           1                                         \n",
      "Covariance Type:            nonrobust                                         \n",
      "==============================================================================\n",
      "                 coef    std err          t      P>|t|      [0.025      0.975]\n",
      "------------------------------------------------------------------------------\n",
      "Intercept     39.9359      0.717     55.660      0.000      38.525      41.347\n",
      "horsepower    -0.1578      0.006    -24.489      0.000      -0.171      -0.145\n",
      "==============================================================================\n",
      "Omnibus:                       16.432   Durbin-Watson:                   0.920\n",
      "Prob(Omnibus):                  0.000   Jarque-Bera (JB):               17.305\n",
      "Skew:                           0.492   Prob(JB):                     0.000175\n",
      "Kurtosis:                       3.299   Cond. No.                         322.\n",
      "==============================================================================\n",
      "\n",
      "Notes:\n",
      "[1] Standard Errors assume that the covariance matrix of the errors is correctly specified.\n"
     ]
    }
   ],
   "source": [
    "my_lm = smf.ols(\"mpg ~ horsepower\", df).fit()\n",
    "print(my_lm.summary())"
   ]
  }
 ],
 "metadata": {
  "kernelspec": {
   "display_name": "Python3 - python",
   "language": "python",
   "name": "ipython_python"
  },
  "language_info": {
   "codemirror_mode": {
    "name": "ipython",
    "version": 3
   },
   "file_extension": ".py",
   "mimetype": "text/x-python",
   "name": "python",
   "nbconvert_exporter": "python",
   "pygments_lexer": "ipython3",
   "version": "3.8.9"
  }
 },
 "nbformat": 4,
 "nbformat_minor": 5
}
