{
 "cells": [
  {
   "cell_type": "markdown",
   "id": "983bcf18-15e5-4d8f-b3e0-d4d8bf52287c",
   "metadata": {},
   "source": [
    "Example 2.875\n",
    "============\n",
    "\n",
    "This notebook is available on github\n",
    "[here](https://github.com/aezarebski/aas-extended-examples). If you find\n",
    "errors or would like to suggest an improvement, feel free to create an\n",
    "issue.\n",
    "\n",
    "As usual we will start by importing some useful libraries."
   ]
  },
  {
   "cell_type": "code",
   "execution_count": 1,
   "id": "dc37adb0-f888-41ef-bbf1-d06dc7c89b24",
   "metadata": {},
   "outputs": [],
   "source": [
    "%matplotlib inline\n",
    "import pandas as pd\n",
    "import numpy as np\n",
    "import scipy.stats as stats\n",
    "import statsmodels.api as sm\n",
    "import statsmodels.formula.api as smf\n",
    "import matplotlib.pyplot as plt"
   ]
  },
  {
   "cell_type": "markdown",
   "id": "05477a0f-2b1d-4682-83ef-a4d49dac2d4c",
   "metadata": {},
   "source": [
    "In this notebook we will look at data on the mode of travel chosen by people travelling between Sydney and Melbourne (Australia). Relevant variables for us in this dataset are the mode of travel chosen: air, bus, car or train, the travel time, the generalised cost of the journey, the income of the household travelling and the number of people travelling together."
   ]
  },
  {
   "cell_type": "code",
   "execution_count": 2,
   "id": "50945dac-5eec-4aa3-a0a7-e196b25ded39",
   "metadata": {},
   "outputs": [],
   "source": [
    "travel_dataset = sm.datasets.get_rdataset(\"TravelMode\", \"AER\")\n",
    "#print(travel_dataset.__doc__)\n",
    "travel_df = travel_dataset.data"
   ]
  },
  {
   "cell_type": "markdown",
   "id": "96ea37e2-4242-446f-9c33-b3220193d30b",
   "metadata": {},
   "source": [
    "### Question\n",
    "\n",
    "What units is `income` in?"
   ]
  },
  {
   "cell_type": "markdown",
   "id": "40af2b41-fe24-480a-b10f-c145f88e2eda",
   "metadata": {},
   "source": [
    "As a first pass we will look at modelling whether the selected mode was a train or car. The following snippet puts the data in a more tidy format for our analysis. Note that we have added a new variable, `is_car`, which is 1 if the travel was done by car and 0 if it was done by train."
   ]
  },
  {
   "cell_type": "code",
   "execution_count": 3,
   "id": "a70ee847-5da0-4b04-817f-13d19636e562",
   "metadata": {},
   "outputs": [
    {
     "name": "stdout",
     "output_type": "stream",
     "text": [
      "   vehicle  income  num_people  is_car\n",
      "3      car      35           1       1\n",
      "7      car      30           2       1\n",
      "11     car      40           1       1\n",
      "15     car      70           3       1\n",
      "19     car      45           2       1\n",
      "21   train      20           1       0\n",
      "31     car      12           1       1\n",
      "35     car      40           1       1\n",
      "39     car      70           2       1\n",
      "43     car      15           2       1\n"
     ]
    }
   ],
   "source": [
    "cb_df = travel_df[(travel_df[\"mode\"] == \"train\") | (travel_df[\"mode\"] == \"car\")]\n",
    "cb_df = cb_df[cb_df[\"choice\"] == \"yes\"]\n",
    "cb_df = cb_df[[\"mode\", \"income\", \"size\"]]\n",
    "cb_df = cb_df.rename(columns={\"mode\": \"vehicle\", \"size\": \"num_people\"})\n",
    "\n",
    "predictor_names = [\"income\", \"num_people\"]\n",
    "\n",
    "cb_df[\"is_car\"] = 0\n",
    "cb_df.loc[cb_df[\"vehicle\"] == \"car\",\"is_car\"] = 1\n",
    "print(cb_df.head(10))"
   ]
  },
  {
   "cell_type": "markdown",
   "id": "73c388c9-feb9-4e26-b3fb-2d34651a93f9",
   "metadata": {},
   "source": [
    "### Question\n",
    "\n",
    "Generate visualisations to see how the distribution of income among car and train trips. What do you notice?\n",
    "\n",
    "[hint](https://aezarebski.github.io/misc/matplotlib/gallery.html#fig-06)"
   ]
  },
  {
   "cell_type": "markdown",
   "id": "77e96d7f-064b-4e19-b964-383a6ca55885",
   "metadata": {},
   "source": [
    "### Question\n",
    "\n",
    "Fit a logistic regression model to this data. Do the estimated coefficients make sense?\n",
    "\n",
    "[hint](https://www.statsmodels.org/stable/generated/statsmodels.formula.api.logit.html#statsmodels.formula.api.logit)"
   ]
  },
  {
   "cell_type": "markdown",
   "id": "6f060d40-d52c-44f6-811f-0aa9b27d5c47",
   "metadata": {},
   "source": [
    "### Question\n",
    "\n",
    "For a fixed income, what change does the model predict for each additional person on the journey? What happens to the odds, what happens to the log-odds?"
   ]
  },
  {
   "cell_type": "markdown",
   "id": "9d9aef60-5d6f-4ec2-8347-bcde74b94312",
   "metadata": {},
   "source": [
    "### Question\n",
    "\n",
    "Write functions for logit and its inverse called `logit` and `inv_logit`.\n",
    "\n",
    "[Hint](https://en.wikipedia.org/wiki/Logit#Definition)"
   ]
  },
  {
   "cell_type": "markdown",
   "id": "c9a42f06-29cb-4327-a63f-4b34a9994be4",
   "metadata": {},
   "source": [
    "The following snippet demonstrates one way to visualise the results of the model fit. If you have defined `logit` and `inv_logit` above this should make a sensible figure..."
   ]
  },
  {
   "cell_type": "code",
   "execution_count": 10,
   "id": "7841dadf-b8cf-485b-800a-70185e2632e0",
   "metadata": {},
   "outputs": [
    {
     "data": {
      "image/png": "[encoded data removed]",
      "text/plain": [
       "<Figure size 432x288 with 1 Axes>"
      ]
     },
     "metadata": {
      "needs_background": "light"
     },
     "output_type": "display_data"
    }
   ],
   "source": [
    "prob_is_car = logistic_model.predict()\n",
    "log_odds_is_car = logit(prob_is_car)\n",
    "\n",
    "plt.figure()\n",
    "plt.scatter(log_odds_is_car, prob_is_car, label=\"Logistic regression\")\n",
    "plt.scatter(log_odds_is_car, cb_df[\"is_car\"], label = \"Data\")\n",
    "plt.legend()\n",
    "plt.show()"
   ]
  },
  {
   "cell_type": "markdown",
   "id": "a0bbb21a-de38-4068-8f36-7976c46c8f00",
   "metadata": {},
   "source": [
    "### Question\n",
    "\n",
    "For journeys with 2 people, plot the probability of going by car (as opposed to train) as a function of household income. Use this figure to find out the income at which it becomes more likely they will travel by car."
   ]
  },
  {
   "cell_type": "markdown",
   "id": "5a60e6f2-5b2d-441f-960c-11ace482738b",
   "metadata": {},
   "source": [
    "### Question\n",
    "\n",
    "Plot the probability of going by car for 1, 2, and 3 people as a function of income. What do you notice about the change in the probability as a function of income?"
   ]
  },
  {
   "cell_type": "markdown",
   "id": "290115af-a5c7-44bb-aa4f-697de27601f6",
   "metadata": {},
   "source": [
    "## Bonus Example: Multiple logistic regression\n",
    "\n",
    "### Question\n",
    "\n",
    "Set up a multiple logistic regression model to predict the mode of transport used based on all of the data."
   ]
  },
  {
   "cell_type": "code",
   "execution_count": null,
   "id": "758c1ae2-001a-4076-b19d-f901830aa4d8",
   "metadata": {},
   "outputs": [],
   "source": []
  }
 ],
 "metadata": {
  "kernelspec": {
   "display_name": "Python3 - python",
   "language": "python",
   "name": "ipython_python"
  },
  "language_info": {
   "codemirror_mode": {
    "name": "ipython",
    "version": 3
   },
   "file_extension": ".py",
   "mimetype": "text/x-python",
   "name": "python",
   "nbconvert_exporter": "python",
   "pygments_lexer": "ipython3",
   "version": "3.8.9"
  }
 },
 "nbformat": 4,
 "nbformat_minor": 5
}
