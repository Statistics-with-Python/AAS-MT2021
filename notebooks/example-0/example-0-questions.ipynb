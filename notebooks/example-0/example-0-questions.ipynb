{
 "cells": [
  {
   "cell_type": "markdown",
   "id": "83b9db8b-d7aa-47a0-bd58-9685f1d78c3d",
   "metadata": {},
   "source": [
    "# Welcome to Applied Analytical Statistics: Python Lab!\n",
    "\n",
    "This notebook will introduce the main python packages we will be using in this course:\n",
    "\n",
    "* `numpy` for numerical calculations\n",
    "* `scipy` for mathematical algorithms\n",
    "* `matplotlib` for visualisation\n",
    "* `pandas` for data wrangling\n",
    "* `statsmodels` for statistical algorithms\n",
    "\n",
    "## NumPy\n",
    "\n",
    "Numpy provides the _array_ data type and a wide range of functions to work with them. This pacakge forms the foundation for most scientific computation done with python. Spending time getting comfortable with using numpy is a wise investment. If you have used vectors in either MATLAB or R the numpy array should feel familiar. You can find resources to help you learn numpy [here](https://numpy.org/learn/).\n",
    "\n",
    "## Scipy\n",
    "\n",
    "[Scipy](https://docs.scipy.org/doc/scipy/tutorial/general.html) provides a wide range of mathematical algorithms. For example, there are clustering algorithms, fourier transforms, numerical integration, and optimisation and root-finding algorithms. Scipy makes use of the numpy array.\n",
    "\n",
    "## Matplotlib\n",
    "\n",
    "Matplotlib is a general purpose plotting library for python. Visualisation is a key skill of the statistician, learning how to use an established plotting library is another wise investment. You can view a gallery of images made using matplotlib and their associated code [here](https://matplotlib.org/stable/gallery/index.html). There are many plotting libraries out there. Matplotlib is probably the most established plotting library in python so it is a good place to start. If you want to explore alternatives, [seaborn](https://seaborn.pydata.org/index.html) is a wrapper around matplotlib designed for statistical graphics and [altair](https://altair-viz.github.io/) is a more powerful declarative plotting package.\n",
    "\n",
    "## Pandas\n",
    "\n",
    "Much of the data we will consider in this coarse is _tabular_, meaning it can be represented as a table of values. The _dataframe_ is a data structure particularly well suited for working with tabular data. If you have any experience with R you will no doubt be familiar with its `data.frame`s. Pandas is an attempt to bring this functionality to the python ecosystem. Pandas provides some visualisation functionality but it is less flexible than matplotlib.\n",
    "\n",
    "## Statsmodels\n",
    "\n",
    "This package provides statistical algorithms. For example, there are functions to fit linear and genealized linear models to data."
   ]
  },
  {
   "cell_type": "markdown",
   "id": "a1a235d3-d290-4e68-b05b-a11540a97a6a",
   "metadata": {},
   "source": [
    "# Numpy\n",
    "\n",
    "To use any package in python we need to import them first, the convention when using numpy is to import it as `np`."
   ]
  },
  {
   "cell_type": "code",
   "execution_count": 1,
   "id": "7b41be23-0058-493a-b8c5-60df92b3d9d8",
   "metadata": {},
   "outputs": [],
   "source": [
    "import numpy as np"
   ]
  },
  {
   "cell_type": "markdown",
   "id": "8740b2c8-c543-44c3-bbef-5d9960a30f15",
   "metadata": {},
   "source": [
    "The `linspace` returns an array of uniformly spaced values."
   ]
  },
  {
   "cell_type": "code",
   "execution_count": 2,
   "id": "19cb02e2-375c-4093-a5d9-24c0b25197cb",
   "metadata": {},
   "outputs": [],
   "source": [
    "x = np.linspace(0, 7, 100)"
   ]
  },
  {
   "cell_type": "markdown",
   "id": "419396d5-8244-4f4e-82ed-7bdf1fe49c91",
   "metadata": {},
   "source": [
    "There are lots of things we want to be able to do with arrays: find the minimum and maximum, range of values, and sum of the values for example."
   ]
  },
  {
   "cell_type": "code",
   "execution_count": 3,
   "id": "ca532d4c-0983-46a3-ad37-27fe0e5e7124",
   "metadata": {},
   "outputs": [
    {
     "name": "stdout",
     "output_type": "stream",
     "text": [
      "0.0\n",
      "7.0\n",
      "7.0\n",
      "350.00000000000006\n"
     ]
    }
   ],
   "source": [
    "print(x.min())\n",
    "print(x.max())\n",
    "# ptp returns the range of values in the array.\n",
    "print(x.ptp())\n",
    "print(np.sum(x))"
   ]
  },
  {
   "cell_type": "markdown",
   "id": "1f1829f5-bedb-4370-b73f-4b02fda90f21",
   "metadata": {},
   "source": [
    "There are also a range of statistical functions provided by numpy that are worth knowing about."
   ]
  },
  {
   "cell_type": "code",
   "execution_count": 4,
   "id": "a9364555-5d78-4e98-8a54-9ca56e41f871",
   "metadata": {},
   "outputs": [
    {
     "name": "stdout",
     "output_type": "stream",
     "text": [
      "3.5\n",
      "3.5000000000000004\n",
      "2.0410352558995437\n",
      "4.165824915824915\n"
     ]
    }
   ],
   "source": [
    "print(np.median(x))\n",
    "print(np.mean(x))\n",
    "print(np.std(x))\n",
    "print(np.var(x))"
   ]
  },
  {
   "cell_type": "markdown",
   "id": "98fb82bf-bf67-40a3-9527-b1a84a9fea45",
   "metadata": {},
   "source": [
    "### Challenge\n",
    "\n",
    "Implement a function to compute the median of an array without using the `median` method. Did it mutate your array? Did you need to make a copy of the array?\n",
    "\n",
    "_Hint:_ [sort function](https://numpy.org/doc/stable/reference/generated/numpy.sort.html?highlight=sort#numpy.sort), [sort method](https://numpy.org/doc/stable/reference/generated/numpy.ndarray.sort.html?highlight=sort#numpy.ndarray.sort)"
   ]
  },
  {
   "cell_type": "markdown",
   "id": "1eb8dd1b-09a5-46db-94f4-a004d794a5d2",
   "metadata": {},
   "source": [
    "We might also want to count how many values are bigger than some threshold"
   ]
  },
  {
   "cell_type": "code",
   "execution_count": 6,
   "id": "daf04e29-88b5-4469-b8e5-8a27b7f4885a",
   "metadata": {},
   "outputs": [
    {
     "data": {
      "text/plain": [
       "57"
      ]
     },
     "execution_count": 6,
     "metadata": {},
     "output_type": "execute_result"
    }
   ],
   "source": [
    "x[x > 3].size"
   ]
  },
  {
   "cell_type": "markdown",
   "id": "d416711e-57ea-4a43-82ac-6702088b54f8",
   "metadata": {},
   "source": [
    "There is a bit going on in this expression: first we construct an array of boolean values with `x > 3`, second we use it to extract just those values from the array for which match the condition with `x[x > 3]`, finally we ask for the size of this array which is stored in the `size` attribute with `x[x > 3].size`.\n",
    "\n",
    "**WARNING:** There are a couple of ways to index into a numpy array and they have different effects. Understanding how to exploit this is useful but beyond the scope of this course. "
   ]
  },
  {
   "cell_type": "markdown",
   "id": "c65c0dab-969b-45c7-abe3-b58451472c17",
   "metadata": {},
   "source": [
    "Many of the functions in numpy are vectorised, which means that they apply element-wise to the values in the array. For example, we can evaluate the sine function on each element of the array."
   ]
  },
  {
   "cell_type": "code",
   "execution_count": 7,
   "id": "5170e006-1b0d-445e-9d9c-7c6b2bb51f5b",
   "metadata": {
    "tags": []
   },
   "outputs": [],
   "source": [
    "sin_vals = np.sin(x)"
   ]
  },
  {
   "cell_type": "markdown",
   "id": "c751b063-4c4b-47f2-bfa6-0534ac66dfeb",
   "metadata": {},
   "source": [
    "# Scipy\n",
    "\n",
    "Generating random numbers is a common task in statistics. The convention here is to import the statistics submodule as `stats`."
   ]
  },
  {
   "cell_type": "code",
   "execution_count": 8,
   "id": "752d90bc-3049-4ea1-8c4a-6882932c2e15",
   "metadata": {},
   "outputs": [],
   "source": [
    "import scipy.stats as stats"
   ]
  },
  {
   "cell_type": "markdown",
   "id": "c91a2424-b7c0-492d-99a3-0cecb8f5c5a2",
   "metadata": {},
   "source": [
    "There are lots of distributions available; [here is a full list](https://docs.scipy.org/doc/scipy/reference/stats.html#probability-distributions). The lines below return arrays of normal random variables."
   ]
  },
  {
   "cell_type": "code",
   "execution_count": 9,
   "id": "0dd43f50-6912-48f3-9eaf-3cc6bed2f87e",
   "metadata": {
    "tags": []
   },
   "outputs": [],
   "source": [
    "norm_rvs = stats.norm.rvs(loc = 0, scale = 1, size = x.size)"
   ]
  },
  {
   "cell_type": "markdown",
   "id": "627f70d4-302b-4e40-b882-10ee5a0bbd90",
   "metadata": {},
   "source": [
    "The `stats.norm` object has lots of methods though, for example, you can ask for the mean of the distribution and evaluate its probability density function."
   ]
  },
  {
   "cell_type": "code",
   "execution_count": 10,
   "id": "1a80896b-06d3-4ba7-a83e-af29d645a51e",
   "metadata": {},
   "outputs": [
    {
     "data": {
      "text/plain": [
       "0.0"
      ]
     },
     "execution_count": 10,
     "metadata": {},
     "output_type": "execute_result"
    }
   ],
   "source": [
    "stats.norm.mean(loc = 0, scale = 1)"
   ]
  },
  {
   "cell_type": "code",
   "execution_count": 11,
   "id": "aebf3ed7-d11a-4555-93ed-9ac9e5792313",
   "metadata": {},
   "outputs": [
    {
     "data": {
      "text/plain": [
       "0.24197072451914337"
      ]
     },
     "execution_count": 11,
     "metadata": {},
     "output_type": "execute_result"
    }
   ],
   "source": [
    "stats.norm.pdf(x = 1, loc = 0, scale = 1)\n",
    "\n"
   ]
  },
  {
   "cell_type": "markdown",
   "id": "a9f5cd01-b53a-4848-9827-87e12ff082f7",
   "metadata": {},
   "source": [
    "### Question\n",
    "\n",
    "Generate a large number of random variable with a geometric distribution with parameter $p = 1/2$ and confirm that the average of these values is close to the mean of that distribution. \n",
    "\n",
    "*Hint:* the [wikipedia page](https://en.wikipedia.org/wiki/Geometric_distribution) for the geometric distribution may be useful with this."
   ]
  },
  {
   "cell_type": "markdown",
   "id": "0985e856-ab5e-41d4-af1d-ed308abb57ce",
   "metadata": {},
   "source": [
    "### Question\n",
    "\n",
    "The median and mean are to ways to describe \"middle\" of a dataset. When would the mean be more useful? When would the median be more useful?"
   ]
  },
  {
   "cell_type": "markdown",
   "id": "fe59bcc6-2c0e-47c2-8736-892e135ac2c8",
   "metadata": {},
   "source": [
    "# Matplotlib\n",
    "\n",
    "We will primarily use the pyplot interface for matplotlib. The convention here is to import this module as `plt`."
   ]
  },
  {
   "cell_type": "code",
   "execution_count": 12,
   "id": "08d55a31-f271-446b-9531-e999935a3262",
   "metadata": {},
   "outputs": [],
   "source": [
    "import matplotlib.pyplot as plt\n",
    "%matplotlib inline"
   ]
  },
  {
   "cell_type": "markdown",
   "id": "2c60eee9-d865-4206-b691-9d98966fc52e",
   "metadata": {},
   "source": [
    "Below we provide the code for some of the fundemental plots you will need. There is an extensive [gallery](https://matplotlib.org/stable/gallery/index.html) to demonstrate more complex plots. "
   ]
  },
  {
   "cell_type": "markdown",
   "id": "70e9e605-188a-4f55-ae95-fad5abb0e3f6",
   "metadata": {},
   "source": [
    "## Line plot"
   ]
  },
  {
   "cell_type": "code",
   "execution_count": 13,
   "id": "2a693412-bf4d-42dc-87d7-630faa8e87a9",
   "metadata": {},
   "outputs": [
    {
     "data": {
      "image/png": "[encoded data removed]",
      "text/plain": [
       "<Figure size 432x288 with 1 Axes>"
      ]
     },
     "metadata": {
      "needs_background": "light"
     },
     "output_type": "display_data"
    }
   ],
   "source": [
    "plt.figure()\n",
    "plt.plot(x, sin_vals, color = \"#67a9cf\")\n",
    "plt.show()"
   ]
  },
  {
   "cell_type": "markdown",
   "id": "5024b8d1-3daf-4c9d-b5be-a1883488426c",
   "metadata": {},
   "source": [
    "## Scatter plot"
   ]
  },
  {
   "cell_type": "code",
   "execution_count": 14,
   "id": "ed93cd39-d698-4c03-880f-435a20e5db41",
   "metadata": {},
   "outputs": [
    {
     "data": {
      "image/png": "[encoded data removed]",
      "text/plain": [
       "<Figure size 432x288 with 1 Axes>"
      ]
     },
     "metadata": {
      "needs_background": "light"
     },
     "output_type": "display_data"
    }
   ],
   "source": [
    "plt.figure()\n",
    "plt.scatter(x, norm_rvs, color = \"#67a9cf\")\n",
    "plt.show()"
   ]
  },
  {
   "cell_type": "markdown",
   "id": "0561b6fa-bb48-4f9f-9aff-7ffda54bd2a1",
   "metadata": {},
   "source": [
    "## Histogram"
   ]
  },
  {
   "cell_type": "code",
   "execution_count": 15,
   "id": "bd69b774-889b-41ca-8ca2-4df050361f1f",
   "metadata": {},
   "outputs": [
    {
     "data": {
      "image/png": "[encoded data removed]",
      "text/plain": [
       "<Figure size 432x288 with 1 Axes>"
      ]
     },
     "metadata": {
      "needs_background": "light"
     },
     "output_type": "display_data"
    }
   ],
   "source": [
    "plt.figure()\n",
    "plt.hist(norm_rvs, bins = 10, color = \"#67a9cf\")\n",
    "plt.show()"
   ]
  },
  {
   "cell_type": "markdown",
   "id": "b51b3c41-6848-4aee-971f-22351fecad5d",
   "metadata": {},
   "source": [
    "## Multiple layers"
   ]
  },
  {
   "cell_type": "code",
   "execution_count": 16,
   "id": "74f76fb6-7757-4457-a229-fd3d344f209b",
   "metadata": {},
   "outputs": [
    {
     "data": {
      "image/png": "[encoded data removed]",
      "text/plain": [
       "<Figure size 432x288 with 1 Axes>"
      ]
     },
     "metadata": {
      "needs_background": "light"
     },
     "output_type": "display_data"
    }
   ],
   "source": [
    "fig = plt.figure()\n",
    "ax = fig.add_axes([0.1,0.1,0.8,0.8])\n",
    "ax.plot(x, sin_vals, color = \"#ef8a62\", label = \"Sine\")\n",
    "ax.scatter(x, norm_rvs, color = \"#67a9cf\", label = \"Random\")\n",
    "ax.legend(loc = \"upper right\")\n",
    "ax.set_xlabel(\"My x-axis title\")\n",
    "ax.set_ylabel(\"My y-axis title\")\n",
    "plt.show()"
   ]
  },
  {
   "cell_type": "markdown",
   "id": "7d9b99de-590c-4ee2-9b4d-879ca4887b59",
   "metadata": {},
   "source": [
    "## Challenge\n",
    "\n",
    "Without looking at the answer below, attmpet to create this plot where the histogram is of 1000 exponential random variables, $\\lambda = 1.0$, and we have drawn the density of this distribution on top.\n",
    "\n",
    "<img src=\"./challenge-figure-hist.png\" style=\"width: 500px;\"/>"
   ]
  },
  {
   "cell_type": "markdown",
   "id": "508ab81b-381a-44bb-b007-51e0fe5a4093",
   "metadata": {},
   "source": [
    "## Challenge\n",
    "\n",
    "Without looking at the answer below, attmpet to create this plot where the number in the title is computed correctly for your random points.\n",
    "\n",
    "<img src=\"./challenge-figure-box.png\" style=\"width: 500px;\"/>"
   ]
  },
  {
   "cell_type": "markdown",
   "id": "dc724fb1-c1a0-4513-94d6-fa846496db67",
   "metadata": {},
   "source": [
    "# Pandas\n",
    "\n",
    "Pandas provides functions for [reading data from many formats](https://pandas.pydata.org/docs/getting_started/intro_tutorials/02_read_write.html#min-tut-02-read-write). The convention is to import it as `pd`. The `head` method prints the first couple of rows in the dataframe."
   ]
  },
  {
   "cell_type": "code",
   "execution_count": 19,
   "id": "b34774a6-fa1c-4b00-9994-672689a1d687",
   "metadata": {},
   "outputs": [],
   "source": [
    "import pandas as pd"
   ]
  },
  {
   "cell_type": "markdown",
   "id": "5242500f-e5c4-43fe-8979-733853c6bdc8",
   "metadata": {},
   "source": [
    "The `read_csv` function will read a CSV into a pandas dataframe. If pandas cannot find `iris.csv`, then replace `iris_file` with `iris_url` and it will attempt to downnload if from the Github repository."
   ]
  },
  {
   "cell_type": "code",
   "execution_count": 19,
   "id": "77778322-9542-4cfa-a91b-d271ff64d3cc",
   "metadata": {},
   "outputs": [
    {
     "data": {
      "text/html": [
       "<div>\n",
       "<style scoped>\n",
       "    .dataframe tbody tr th:only-of-type {\n",
       "        vertical-align: middle;\n",
       "    }\n",
       "\n",
       "    .dataframe tbody tr th {\n",
       "        vertical-align: top;\n",
       "    }\n",
       "\n",
       "    .dataframe thead th {\n",
       "        text-align: right;\n",
       "    }\n",
       "</style>\n",
       "<table border=\"1\" class=\"dataframe\">\n",
       "  <thead>\n",
       "    <tr style=\"text-align: right;\">\n",
       "      <th></th>\n",
       "      <th>sepal_length</th>\n",
       "      <th>sepal_width</th>\n",
       "      <th>petal_length</th>\n",
       "      <th>petal_width</th>\n",
       "      <th>species</th>\n",
       "    </tr>\n",
       "  </thead>\n",
       "  <tbody>\n",
       "    <tr>\n",
       "      <th>0</th>\n",
       "      <td>5.1</td>\n",
       "      <td>3.5</td>\n",
       "      <td>1.4</td>\n",
       "      <td>0.2</td>\n",
       "      <td>setosa</td>\n",
       "    </tr>\n",
       "    <tr>\n",
       "      <th>1</th>\n",
       "      <td>4.9</td>\n",
       "      <td>3.0</td>\n",
       "      <td>1.4</td>\n",
       "      <td>0.2</td>\n",
       "      <td>setosa</td>\n",
       "    </tr>\n",
       "    <tr>\n",
       "      <th>2</th>\n",
       "      <td>4.7</td>\n",
       "      <td>3.2</td>\n",
       "      <td>1.3</td>\n",
       "      <td>0.2</td>\n",
       "      <td>setosa</td>\n",
       "    </tr>\n",
       "    <tr>\n",
       "      <th>3</th>\n",
       "      <td>4.6</td>\n",
       "      <td>3.1</td>\n",
       "      <td>1.5</td>\n",
       "      <td>0.2</td>\n",
       "      <td>setosa</td>\n",
       "    </tr>\n",
       "    <tr>\n",
       "      <th>4</th>\n",
       "      <td>5.0</td>\n",
       "      <td>3.6</td>\n",
       "      <td>1.4</td>\n",
       "      <td>0.2</td>\n",
       "      <td>setosa</td>\n",
       "    </tr>\n",
       "  </tbody>\n",
       "</table>\n",
       "</div>"
      ],
      "text/plain": [
       "   sepal_length  sepal_width  petal_length  petal_width species\n",
       "0           5.1          3.5           1.4          0.2  setosa\n",
       "1           4.9          3.0           1.4          0.2  setosa\n",
       "2           4.7          3.2           1.3          0.2  setosa\n",
       "3           4.6          3.1           1.5          0.2  setosa\n",
       "4           5.0          3.6           1.4          0.2  setosa"
      ]
     },
     "execution_count": 19,
     "metadata": {},
     "output_type": "execute_result"
    }
   ],
   "source": [
    "iris_url = \"https://raw.githubusercontent.com/Statistics-with-Python/statistics-course-material/main/notebooks/example-0/iris.csv\"\n",
    "iris_file = \"iris.csv\"\n",
    "iris = pd.read_csv(iris_file)\n",
    "iris.head()"
   ]
  },
  {
   "cell_type": "markdown",
   "id": "c04cc8f3-e138-4680-b8d6-a81d04da7e59",
   "metadata": {},
   "source": [
    "The following cell demonstrates how we can use the `query` method to select a subset of the data and then plot it."
   ]
  },
  {
   "cell_type": "code",
   "execution_count": 20,
   "id": "651bb78e-bf70-440d-8ddc-7b5bbae9db33",
   "metadata": {},
   "outputs": [
    {
     "data": {
      "image/png": "[encoded data removed]",
      "text/plain": [
       "<Figure size 432x288 with 1 Axes>"
      ]
     },
     "metadata": {
      "needs_background": "light"
     },
     "output_type": "display_data"
    }
   ],
   "source": [
    "plt.figure()\n",
    "for species in iris.species.unique():\n",
    "    tmp = iris.query(\"species == '{s}'\".format(s = species))\n",
    "    plt.scatter(tmp.sepal_length, tmp.sepal_width, label = species)\n",
    "plt.xlabel(\"Sepal Length\")\n",
    "plt.ylabel(\"Sepal Width\")\n",
    "plt.legend(title = \"Species\", loc = \"upper right\")\n",
    "plt.show()"
   ]
  },
  {
   "cell_type": "markdown",
   "id": "fb118225-09fe-412f-9057-70cb26a93b43",
   "metadata": {},
   "source": [
    "Pandas provides many tools to wrangle data. The following example summarises the sepal length of each species. It starts by grouping the data by species, then it extracts the sepal length variable, finally it computes the mean and standard deviation of these values"
   ]
  },
  {
   "cell_type": "code",
   "execution_count": 21,
   "id": "7cb61f4f-7df0-4e88-beab-54133b8c1e77",
   "metadata": {},
   "outputs": [
    {
     "name": "stdout",
     "output_type": "stream",
     "text": [
      "           sepal_length       \n",
      "                    std   mean\n",
      "species                       \n",
      "setosa         0.352490  5.006\n",
      "versicolor     0.516171  5.936\n",
      "virginica      0.635880  6.588\n"
     ]
    }
   ],
   "source": [
    "iris_summary = iris.groupby(\"species\")[[\"sepal_length\"]].agg({\"sepal_length\": [\"std\", \"mean\"]})\n",
    "print(iris_summary)"
   ]
  },
  {
   "cell_type": "markdown",
   "id": "74879c7e-c66b-4f2a-b06c-c22ea570f391",
   "metadata": {},
   "source": [
    "Depending upon the version of pandas the previous code may throw an error. If that is the case, try replacing it with the following\n",
    "\n",
    "```\n",
    "iris_summary = iris.groupby(\"species\").agg({\"sepal_length\": [\"std\", \"mean\"]})\n",
    "```"
   ]
  },
  {
   "cell_type": "markdown",
   "id": "022dda49-9b5d-4b91-a83a-999be4184874",
   "metadata": {},
   "source": [
    "This data can then be represented as a bar chart with error bars to indicate two standard deviations about the mean. This is a popular way to visualise this sort of data. It is not the optimal way to represent this data, can you think of a better way? Why do you think we have used two standard deviations in the error bars?"
   ]
  },
  {
   "cell_type": "code",
   "execution_count": 22,
   "id": "8de192f6-b2fc-4aaa-982b-88b00637f996",
   "metadata": {},
   "outputs": [
    {
     "data": {
      "image/png": "[encoded data removed]",
      "text/plain": [
       "<Figure size 432x288 with 1 Axes>"
      ]
     },
     "metadata": {
      "needs_background": "light"
     },
     "output_type": "display_data"
    }
   ],
   "source": [
    "plt.figure()\n",
    "plt.bar(iris_summary.index, \n",
    "        iris_summary.sepal_length[\"mean\"], \n",
    "        yerr=2*iris_summary.sepal_length[\"std\"],\n",
    "        color = \"#67a9cf\")\n",
    "plt.xlabel(\"Species\")\n",
    "plt.ylabel(\"Sepal Length\")\n",
    "plt.show()"
   ]
  },
  {
   "cell_type": "markdown",
   "id": "5c808072-dfd1-4361-add5-0d3c46a015fb",
   "metadata": {},
   "source": [
    "### Challenge\n",
    "\n",
    "Find a better (in your opinion) way to display these data and explain why you think it is better."
   ]
  },
  {
   "cell_type": "markdown",
   "id": "03b57eaf-bcee-4041-85df-dae469aa6f91",
   "metadata": {},
   "source": [
    "### Question\n",
    "\n",
    "What do you notice about the correlation between the sepal length and width? Is there a positive or negative correlation?\n",
    "\n",
    "* _Hint 1_ [hmmm](https://en.wikipedia.org/wiki/Simpson%27s_paradox)\n",
    "* _Hint 2_ [it should only take two lines of code](https://pandas.pydata.org/pandas-docs/stable/reference/api/pandas.core.groupby.DataFrameGroupBy.corr.html?highlight=corr#) \n"
   ]
  },
  {
   "cell_type": "markdown",
   "id": "98b898c2-4f27-48b5-b281-fd7a88a8e9e6",
   "metadata": {},
   "source": [
    "# Statsmodels\n",
    "\n",
    "We will cover this in subsequent tutorials..."
   ]
  }
 ],
 "metadata": {
  "kernelspec": {
   "display_name": "Python3 - python",
   "language": "python",
   "name": "ipython_python"
  },
  "language_info": {
   "codemirror_mode": {
    "name": "ipython",
    "version": 3
   },
   "file_extension": ".py",
   "mimetype": "text/x-python",
   "name": "python",
   "nbconvert_exporter": "python",
   "pygments_lexer": "ipython3",
   "version": "3.8.9"
  }
 },
 "nbformat": 4,
 "nbformat_minor": 5
}
