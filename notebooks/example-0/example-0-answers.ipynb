{
 "cells": [
  {
   "cell_type": "markdown",
   "id": "83b9db8b-d7aa-47a0-bd58-9685f1d78c3d",
   "metadata": {},
   "source": [
    "# Welcome to Applied Analytical Statistics: Python Lab!\n",
    "\n",
    "This notebook will introduce the main python packages we will be using in this course:\n",
    "\n",
    "* `numpy` for numerical calculations\n",
    "* `scipy` for mathematical algorithms\n",
    "* `matplotlib` for visualisation\n",
    "* `pandas` for data wrangling\n",
    "* `statsmodels` for statistical algorithms\n",
    "\n",
    "## NumPy\n",
    "\n",
    "Numpy provides the _array_ data type and a wide range of functions to work with them. This pacakge forms the foundation for most scientific computation done with python. Spending time getting comfortable with using numpy is a wise investment. If you have used vectors in either MATLAB or R the numpy array should feel familiar. You can find resources to help you learn numpy [here](https://numpy.org/learn/).\n",
    "\n",
    "## Scipy\n",
    "\n",
    "[Scipy](https://docs.scipy.org/doc/scipy/tutorial/general.html) provides a wide range of mathematical algorithms. For example, there are clustering algorithms, fourier transforms, numerical integration, and optimisation and root-finding algorithms. Scipy makes use of the numpy array.\n",
    "\n",
    "## Matplotlib\n",
    "\n",
    "Matplotlib is a general purpose plotting library for python. Visualisation is a key skill of the statistician, learning how to use an established plotting library is another wise investment. You can view a gallery of images made using matplotlib and their associated code [here](https://matplotlib.org/stable/gallery/index.html). There are many plotting libraries out there. Matplotlib is probably the most established plotting library in python so it is a good place to start. If you want to explore alternatives, [seaborn](https://seaborn.pydata.org/index.html) is a wrapper around matplotlib designed for statistical graphics and [altair](https://altair-viz.github.io/) is a more powerful declarative plotting package.\n",
    "\n",
    "## Pandas\n",
    "\n",
    "Much of the data we will consider in this course is _tabular_, meaning it can be represented as a table of values. The _dataframe_ is a data structure particularly well suited for working with tabular data. If you have any experience with R you will no doubt be familiar with its `data.frame`s. Pandas is an attempt to bring this functionality to the python ecosystem. Pandas provides some visualisation functionality but it is less flexible than matplotlib.\n",
    "\n",
    "## Statsmodels\n",
    "\n",
    "This package provides statistical algorithms. For example, there are functions to fit linear and genealized linear models to data."
   ]
  },
  {
   "cell_type": "markdown",
   "id": "a1a235d3-d290-4e68-b05b-a11540a97a6a",
   "metadata": {},
   "source": [
    "# Numpy\n",
    "\n",
    "To use any package in python we need to import them first, the convention when using numpy is to import it as `np`."
   ]
  },
  {
   "cell_type": "code",
   "execution_count": 1,
   "id": "7b41be23-0058-493a-b8c5-60df92b3d9d8",
   "metadata": {},
   "outputs": [],
   "source": [
    "import numpy as np"
   ]
  },
  {
   "cell_type": "markdown",
   "id": "8740b2c8-c543-44c3-bbef-5d9960a30f15",
   "metadata": {},
   "source": [
    "The `linspace` returns an array of uniformly spaced values."
   ]
  },
  {
   "cell_type": "code",
   "execution_count": 2,
   "id": "19cb02e2-375c-4093-a5d9-24c0b25197cb",
   "metadata": {},
   "outputs": [],
   "source": [
    "x = np.linspace(0, 7, 100)"
   ]
  },
  {
   "cell_type": "markdown",
   "id": "419396d5-8244-4f4e-82ed-7bdf1fe49c91",
   "metadata": {},
   "source": [
    "There are lots of things we want to be able to do with arrays: find the minimum and maximum, range of values, and sum of the values for example."
   ]
  },
  {
   "cell_type": "code",
   "execution_count": 3,
   "id": "ca532d4c-0983-46a3-ad37-27fe0e5e7124",
   "metadata": {},
   "outputs": [
    {
     "name": "stdout",
     "output_type": "stream",
     "text": [
      "0.0\n",
      "7.0\n",
      "7.0\n",
      "350.00000000000006\n"
     ]
    }
   ],
   "source": [
    "print(x.min())\n",
    "print(x.max())\n",
    "# ptp returns the range of values in the array.\n",
    "print(x.ptp())\n",
    "print(np.sum(x))"
   ]
  },
  {
   "cell_type": "markdown",
   "id": "1f1829f5-bedb-4370-b73f-4b02fda90f21",
   "metadata": {},
   "source": [
    "There are also a range of statistical functions provided by numpy that are worth knowing about."
   ]
  },
  {
   "cell_type": "code",
   "execution_count": 4,
   "id": "a9364555-5d78-4e98-8a54-9ca56e41f871",
   "metadata": {},
   "outputs": [
    {
     "name": "stdout",
     "output_type": "stream",
     "text": [
      "3.5\n",
      "3.5000000000000004\n",
      "2.0410352558995437\n",
      "4.165824915824915\n"
     ]
    }
   ],
   "source": [
    "print(np.median(x))\n",
    "print(np.mean(x))\n",
    "print(np.std(x))\n",
    "print(np.var(x))"
   ]
  },
  {
   "cell_type": "markdown",
   "id": "98fb82bf-bf67-40a3-9527-b1a84a9fea45",
   "metadata": {},
   "source": [
    "### Challenge\n",
    "\n",
    "Implement a function to compute the median of an array without using the `median` method. Did it mutate your array? Did you need to make a copy of the array?\n",
    "\n",
    "_Hint:_ [sort function](https://numpy.org/doc/stable/reference/generated/numpy.sort.html?highlight=sort#numpy.sort), [sort method](https://numpy.org/doc/stable/reference/generated/numpy.ndarray.sort.html?highlight=sort#numpy.ndarray.sort)"
   ]
  },
  {
   "cell_type": "markdown",
   "id": "53f26e3e-56f7-4f52-9c45-abee43f930ff",
   "metadata": {},
   "source": [
    "### Answer"
   ]
  },
  {
   "cell_type": "code",
   "execution_count": 5,
   "id": "05a0bcdb-b9b8-45d5-9464-990ac92841b1",
   "metadata": {},
   "outputs": [
    {
     "name": "stdout",
     "output_type": "stream",
     "text": [
      "(1.0, 1) True\n",
      "(1.5, 1.5) True\n",
      "(2.0, 2) True\n",
      "(2.5, 2.5) True\n"
     ]
    }
   ],
   "source": [
    "def my_median(a):\n",
    "    tmp = np.sort(a)\n",
    "    n = a.size\n",
    "    ix = round(np.floor(n/2))\n",
    "    if n % 2 == 0:\n",
    "        return (0.5 * (tmp[ix-1] + tmp[ix]))\n",
    "    else:\n",
    "        return (tmp[ix])\n",
    "    \n",
    "aa = np.array([1])\n",
    "print((np.median(aa), my_median(aa)), np.median(aa) == my_median(aa))\n",
    "aa = np.array([2,1])\n",
    "print((np.median(aa), my_median(aa)), np.median(aa) == my_median(aa))\n",
    "aa = np.array([2,3,1])\n",
    "print((np.median(aa), my_median(aa)), np.median(aa) == my_median(aa))\n",
    "aa = np.array([4,2,3,1])\n",
    "print((np.median(aa), my_median(aa)), np.median(aa) == my_median(aa))"
   ]
  },
  {
   "cell_type": "markdown",
   "id": "1eb8dd1b-09a5-46db-94f4-a004d794a5d2",
   "metadata": {},
   "source": [
    "We might also want to count how many values are bigger than some threshold"
   ]
  },
  {
   "cell_type": "code",
   "execution_count": 6,
   "id": "daf04e29-88b5-4469-b8e5-8a27b7f4885a",
   "metadata": {},
   "outputs": [
    {
     "data": {
      "text/plain": [
       "57"
      ]
     },
     "execution_count": 6,
     "metadata": {},
     "output_type": "execute_result"
    }
   ],
   "source": [
    "x[x > 3].size"
   ]
  },
  {
   "cell_type": "markdown",
   "id": "d416711e-57ea-4a43-82ac-6702088b54f8",
   "metadata": {},
   "source": [
    "There is a bit going on in this expression: first we construct an array of boolean values with `x > 3`, second we use it to extract just those values from the array for which match the condition with `x[x > 3]`, finally we ask for the size of this array which is stored in the `size` attribute with `x[x > 3].size`.\n",
    "\n",
    "**WARNING:** There are a couple of ways to index into a numpy array and they have different effects. Understanding how to exploit this is useful but beyond the scope of this course. "
   ]
  },
  {
   "cell_type": "markdown",
   "id": "c65c0dab-969b-45c7-abe3-b58451472c17",
   "metadata": {},
   "source": [
    "Many of the functions in numpy are vectorised, which means that they apply element-wise to the values in the array. For example, we can evaluate the sine function on each element of the array."
   ]
  },
  {
   "cell_type": "code",
   "execution_count": 7,
   "id": "5170e006-1b0d-445e-9d9c-7c6b2bb51f5b",
   "metadata": {
    "tags": []
   },
   "outputs": [],
   "source": [
    "sin_vals = np.sin(x)"
   ]
  },
  {
   "cell_type": "markdown",
   "id": "c751b063-4c4b-47f2-bfa6-0534ac66dfeb",
   "metadata": {},
   "source": [
    "# Scipy\n",
    "\n",
    "Generating random numbers is a common task in statistics. The convention here is to import the statistics submodule as `stats`."
   ]
  },
  {
   "cell_type": "code",
   "execution_count": 8,
   "id": "752d90bc-3049-4ea1-8c4a-6882932c2e15",
   "metadata": {},
   "outputs": [],
   "source": [
    "import scipy.stats as stats"
   ]
  },
  {
   "cell_type": "markdown",
   "id": "c91a2424-b7c0-492d-99a3-0cecb8f5c5a2",
   "metadata": {},
   "source": [
    "There are lots of distributions available; [here is a full list](https://docs.scipy.org/doc/scipy/reference/stats.html#probability-distributions). The lines below return arrays of normal random variables."
   ]
  },
  {
   "cell_type": "code",
   "execution_count": 9,
   "id": "0dd43f50-6912-48f3-9eaf-3cc6bed2f87e",
   "metadata": {
    "tags": []
   },
   "outputs": [],
   "source": [
    "norm_rvs = stats.norm.rvs(loc = 0, scale = 1, size = x.size)"
   ]
  },
  {
   "cell_type": "markdown",
   "id": "627f70d4-302b-4e40-b882-10ee5a0bbd90",
   "metadata": {},
   "source": [
    "The `stats.norm` object has lots of methods though, for example, you can ask for the mean of the distribution and evaluate its probability density function."
   ]
  },
  {
   "cell_type": "code",
   "execution_count": 10,
   "id": "1a80896b-06d3-4ba7-a83e-af29d645a51e",
   "metadata": {},
   "outputs": [
    {
     "data": {
      "text/plain": [
       "0.0"
      ]
     },
     "execution_count": 10,
     "metadata": {},
     "output_type": "execute_result"
    }
   ],
   "source": [
    "stats.norm.mean(loc = 0, scale = 1)"
   ]
  },
  {
   "cell_type": "code",
   "execution_count": 11,
   "id": "aebf3ed7-d11a-4555-93ed-9ac9e5792313",
   "metadata": {},
   "outputs": [
    {
     "data": {
      "text/plain": [
       "0.24197072451914337"
      ]
     },
     "execution_count": 11,
     "metadata": {},
     "output_type": "execute_result"
    }
   ],
   "source": [
    "stats.norm.pdf(x = 1, loc = 0, scale = 1)\n"
   ]
  },
  {
   "cell_type": "markdown",
   "id": "a9f5cd01-b53a-4848-9827-87e12ff082f7",
   "metadata": {},
   "source": [
    "### Question\n",
    "\n",
    "Generate a large number of random variable with a geometric distribution with parameter $p = 1/2$ and confirm that the average of these values is close to the mean of that distribution. \n",
    "\n",
    "*Hint:* the [wikipedia page](https://en.wikipedia.org/wiki/Geometric_distribution) for the geometric distribution may be useful with this."
   ]
  },
  {
   "cell_type": "markdown",
   "id": "38e67a21-31ec-41da-afa5-103c1d600b90",
   "metadata": {},
   "source": [
    "### Answer\n",
    "\n",
    "Use `stats.geom.rvs(p=0.5, size=10000)` to get the array of values and the `mean` method to compute the mean. You can calculate the mean of this distribution as $1/p$ of use the method which does this `stats.geom.mean(p=0.5)`"
   ]
  },
  {
   "cell_type": "markdown",
   "id": "0985e856-ab5e-41d4-af1d-ed308abb57ce",
   "metadata": {},
   "source": [
    "### Question\n",
    "\n",
    "The median and mean are to ways to describe \"middle\" of a dataset. When would the mean be more useful? When would the median be more useful?"
   ]
  },
  {
   "cell_type": "markdown",
   "id": "f4081465-5221-4aa8-873f-c55df5fcf8de",
   "metadata": {},
   "source": [
    "### Answer\n",
    "\n",
    "Individuals' income provides us examples both ways:\n",
    "\n",
    "- the mean is more useful when you care about the population as a whole. For example, the mean would be useful if you were trying to estimate the total earnings of people aged $+50$ a random sample.\n",
    "- the median is more useful if you are trying to understand the bulk of the population excluding outliers. For example, the median would be useful if you were trying to describe the earnings of $90\\%$ of voters."
   ]
  },
  {
   "cell_type": "markdown",
   "id": "fe59bcc6-2c0e-47c2-8736-892e135ac2c8",
   "metadata": {},
   "source": [
    "# Matplotlib\n",
    "\n",
    "We will primarily use the pyplot interface for matplotlib. The convention here is to import this module as `plt`."
   ]
  },
  {
   "cell_type": "code",
   "execution_count": 12,
   "id": "08d55a31-f271-446b-9531-e999935a3262",
   "metadata": {},
   "outputs": [],
   "source": [
    "import matplotlib.pyplot as plt\n",
    "%matplotlib inline"
   ]
  },
  {
   "cell_type": "markdown",
   "id": "2c60eee9-d865-4206-b691-9d98966fc52e",
   "metadata": {},
   "source": [
    "Below we provide the code for some of the fundemental plots you will need. There is an extensive [gallery](https://matplotlib.org/stable/gallery/index.html) to demonstrate more complex plots. "
   ]
  },
  {
   "cell_type": "markdown",
   "id": "70e9e605-188a-4f55-ae95-fad5abb0e3f6",
   "metadata": {},
   "source": [
    "## Line plot"
   ]
  },
  {
   "cell_type": "code",
   "execution_count": 13,
   "id": "2a693412-bf4d-42dc-87d7-630faa8e87a9",
   "metadata": {},
   "outputs": [
    {
     "data": {
      "image/png": "[encoded data removed]",
      "text/plain": [
       "<Figure size 432x288 with 1 Axes>"
      ]
     },
     "metadata": {
      "needs_background": "light"
     },
     "output_type": "display_data"
    }
   ],
   "source": [
    "plt.figure()\n",
    "plt.plot(x, sin_vals)\n",
    "plt.show()"
   ]
  },
  {
   "cell_type": "markdown",
   "id": "5024b8d1-3daf-4c9d-b5be-a1883488426c",
   "metadata": {},
   "source": [
    "## Scatter plot"
   ]
  },
  {
   "cell_type": "code",
   "execution_count": 14,
   "id": "ed93cd39-d698-4c03-880f-435a20e5db41",
   "metadata": {},
   "outputs": [
    {
     "data": {
      "image/png": "[encoded data removed]",
      "text/plain": [
       "<Figure size 432x288 with 1 Axes>"
      ]
     },
     "metadata": {
      "needs_background": "light"
     },
     "output_type": "display_data"
    }
   ],
   "source": [
    "plt.figure()\n",
    "plt.scatter(x, norm_rvs, color = \"#67a9cf\")\n",
    "plt.show()"
   ]
  },
  {
   "cell_type": "markdown",
   "id": "0561b6fa-bb48-4f9f-9aff-7ffda54bd2a1",
   "metadata": {},
   "source": [
    "## Histogram"
   ]
  },
  {
   "cell_type": "code",
   "execution_count": 15,
   "id": "bd69b774-889b-41ca-8ca2-4df050361f1f",
   "metadata": {},
   "outputs": [
    {
     "data": {
      "image/png": "[encoded data removed]",
      "text/plain": [
       "<Figure size 432x288 with 1 Axes>"
      ]
     },
     "metadata": {
      "needs_background": "light"
     },
     "output_type": "display_data"
    }
   ],
   "source": [
    "plt.figure()\n",
    "plt.hist(norm_rvs, bins = 10, color = \"#67a9cf\")\n",
    "plt.show()"
   ]
  },
  {
   "cell_type": "markdown",
   "id": "b51b3c41-6848-4aee-971f-22351fecad5d",
   "metadata": {},
   "source": [
    "## Multiple layers"
   ]
  },
  {
   "cell_type": "code",
   "execution_count": 16,
   "id": "74f76fb6-7757-4457-a229-fd3d344f209b",
   "metadata": {},
   "outputs": [
    {
     "data": {
      "image/png": "[encoded data removed]",
      "text/plain": [
       "<Figure size 432x288 with 1 Axes>"
      ]
     },
     "metadata": {
      "needs_background": "light"
     },
     "output_type": "display_data"
    }
   ],
   "source": [
    "fig = plt.figure()\n",
    "ax = fig.add_axes([0.1,0.1,0.8,0.8])\n",
    "ax.plot(x, sin_vals, color = \"#ef8a62\", label = \"Sine\")\n",
    "ax.scatter(x, norm_rvs, color = \"#67a9cf\", label = \"Random\")\n",
    "ax.legend(loc = \"upper right\")\n",
    "ax.set_xlabel(\"My x-axis title\")\n",
    "ax.set_ylabel(\"My y-axis title\")\n",
    "plt.show()"
   ]
  },
  {
   "cell_type": "markdown",
   "id": "7d9b99de-590c-4ee2-9b4d-879ca4887b59",
   "metadata": {},
   "source": [
    "## Challenge\n",
    "\n",
    "Without looking at the answer below, attmpet to create this plot where the histogram is of 1000 exponential random variables, $\\lambda = 1.0$, and we have drawn the density of this distribution on top.\n",
    "\n",
    "<img src=\"./challenge-figure-hist.png\" style=\"width: 500px;\"/>"
   ]
  },
  {
   "cell_type": "code",
   "execution_count": 17,
   "id": "8b38d7ea-fc83-4e15-86e8-714d35da2982",
   "metadata": {},
   "outputs": [
    {
     "data": {
      "image/png": "[encoded data removed]",
      "text/plain": [
       "<Figure size 432x288 with 1 Axes>"
      ]
     },
     "metadata": {
      "needs_background": "light"
     },
     "output_type": "display_data"
    }
   ],
   "source": [
    "exp_rvs = stats.expon.rvs(scale = 1, size = 1000)\n",
    "exp_x = np.linspace(exp_rvs.min(), exp_rvs.max(), 100)\n",
    "exp_y = stats.expon.pdf(x = exp_x, scale = 1)\n",
    "\n",
    "plt.figure()\n",
    "plt.hist(exp_rvs, density=True, color = \"#67a9cf\", label = \"Empirical\")\n",
    "plt.plot(exp_x, exp_y, color = \"#ef8a62\", label = \"Theoretical\")\n",
    "plt.legend(loc = \"upper right\")\n",
    "plt.xlabel(\"Variable\")\n",
    "plt.ylabel(\"Density\")\n",
    "plt.title(\"Exponential random variables\", loc = \"left\")\n",
    "plt.show()"
   ]
  },
  {
   "cell_type": "markdown",
   "id": "508ab81b-381a-44bb-b007-51e0fe5a4093",
   "metadata": {},
   "source": [
    "## Challenge\n",
    "\n",
    "Without looking at the answer below, attmpet to create this plot where the number in the title is computed correctly for your random points.\n",
    "\n",
    "<img src=\"./challenge-figure-box.png\" style=\"width: 500px;\"/>"
   ]
  },
  {
   "cell_type": "code",
   "execution_count": 18,
   "id": "cfa3d63b-1c73-4a0d-9f15-fd4270fd96a5",
   "metadata": {},
   "outputs": [
    {
     "data": {
      "image/png": "[encoded data removed]",
      "text/plain": [
       "<Figure size 432x288 with 1 Axes>"
      ]
     },
     "metadata": {
      "needs_background": "light"
     },
     "output_type": "display_data"
    }
   ],
   "source": [
    "x = np.random.uniform(size = 1000)\n",
    "y = np.random.uniform(size = 1000)\n",
    "mask = (0.25 < x) & (x < 0.75) & (0.25 < y) & (y < 0.75)\n",
    "fig = plt.figure()\n",
    "ax = fig.add_axes([0.1,0.1,0.8,0.8])\n",
    "ax.plot([0.25,0.25,0.75,0.75,0.25], [0.25,0.75,0.75,0.25,0.25], color = \"#999999\")\n",
    "ax.scatter(x[mask], y[mask], color = \"#ef8a62\")\n",
    "ax.scatter(x[np.logical_not(mask)], y[np.logical_not(mask)], color = \"#67a9cf\")\n",
    "ax.set_title('The proportion in the box is {x}'.format(x= mask.sum() / mask.size))\n",
    "ax.get_xaxis().set_visible(False)\n",
    "ax.get_yaxis().set_visible(False)\n",
    "plt.show()"
   ]
  },
  {
   "cell_type": "markdown",
   "id": "dc724fb1-c1a0-4513-94d6-fa846496db67",
   "metadata": {},
   "source": [
    "# Pandas\n",
    "\n",
    "Pandas provides functions for [reading data from many formats](https://pandas.pydata.org/docs/getting_started/intro_tutorials/02_read_write.html#min-tut-02-read-write). The convention is to import it as `pd`. The `head` method prints the first couple of rows in the dataframe."
   ]
  },
  {
   "cell_type": "code",
   "execution_count": 19,
   "id": "63f902ac-0f35-4a4b-bfc1-d8ad6bc304e7",
   "metadata": {},
   "outputs": [
    {
     "data": {
      "text/html": [
       "<div>\n",
       "<style scoped>\n",
       "    .dataframe tbody tr th:only-of-type {\n",
       "        vertical-align: middle;\n",
       "    }\n",
       "\n",
       "    .dataframe tbody tr th {\n",
       "        vertical-align: top;\n",
       "    }\n",
       "\n",
       "    .dataframe thead th {\n",
       "        text-align: right;\n",
       "    }\n",
       "</style>\n",
       "<table border=\"1\" class=\"dataframe\">\n",
       "  <thead>\n",
       "    <tr style=\"text-align: right;\">\n",
       "      <th></th>\n",
       "      <th>sepal_length</th>\n",
       "      <th>sepal_width</th>\n",
       "      <th>petal_length</th>\n",
       "      <th>petal_width</th>\n",
       "      <th>species</th>\n",
       "    </tr>\n",
       "  </thead>\n",
       "  <tbody>\n",
       "    <tr>\n",
       "      <th>0</th>\n",
       "      <td>5.1</td>\n",
       "      <td>3.5</td>\n",
       "      <td>1.4</td>\n",
       "      <td>0.2</td>\n",
       "      <td>setosa</td>\n",
       "    </tr>\n",
       "    <tr>\n",
       "      <th>1</th>\n",
       "      <td>4.9</td>\n",
       "      <td>3.0</td>\n",
       "      <td>1.4</td>\n",
       "      <td>0.2</td>\n",
       "      <td>setosa</td>\n",
       "    </tr>\n",
       "    <tr>\n",
       "      <th>2</th>\n",
       "      <td>4.7</td>\n",
       "      <td>3.2</td>\n",
       "      <td>1.3</td>\n",
       "      <td>0.2</td>\n",
       "      <td>setosa</td>\n",
       "    </tr>\n",
       "    <tr>\n",
       "      <th>3</th>\n",
       "      <td>4.6</td>\n",
       "      <td>3.1</td>\n",
       "      <td>1.5</td>\n",
       "      <td>0.2</td>\n",
       "      <td>setosa</td>\n",
       "    </tr>\n",
       "    <tr>\n",
       "      <th>4</th>\n",
       "      <td>5.0</td>\n",
       "      <td>3.6</td>\n",
       "      <td>1.4</td>\n",
       "      <td>0.2</td>\n",
       "      <td>setosa</td>\n",
       "    </tr>\n",
       "  </tbody>\n",
       "</table>\n",
       "</div>"
      ],
      "text/plain": [
       "   sepal_length  sepal_width  petal_length  petal_width species\n",
       "0           5.1          3.5           1.4          0.2  setosa\n",
       "1           4.9          3.0           1.4          0.2  setosa\n",
       "2           4.7          3.2           1.3          0.2  setosa\n",
       "3           4.6          3.1           1.5          0.2  setosa\n",
       "4           5.0          3.6           1.4          0.2  setosa"
      ]
     },
     "execution_count": 19,
     "metadata": {},
     "output_type": "execute_result"
    }
   ],
   "source": [
    "import pandas as pd\n",
    "iris = pd.read_csv(\"iris.csv\")\n",
    "iris.head()"
   ]
  },
  {
   "cell_type": "markdown",
   "id": "c04cc8f3-e138-4680-b8d6-a81d04da7e59",
   "metadata": {},
   "source": [
    "The following cell demonstrates how we can use the `query` method to select a subset of the data and then plot it."
   ]
  },
  {
   "cell_type": "code",
   "execution_count": 20,
   "id": "651bb78e-bf70-440d-8ddc-7b5bbae9db33",
   "metadata": {},
   "outputs": [
    {
     "data": {
      "image/png": "[encoded data removed]",
      "text/plain": [
       "<Figure size 432x288 with 1 Axes>"
      ]
     },
     "metadata": {
      "needs_background": "light"
     },
     "output_type": "display_data"
    }
   ],
   "source": [
    "plt.figure()\n",
    "for species in iris.species.unique():\n",
    "    tmp = iris.query(\"species == '{s}'\".format(s = species))\n",
    "    plt.scatter(tmp.sepal_length, tmp.sepal_width, label = species)\n",
    "plt.xlabel(\"Sepal Length\")\n",
    "plt.ylabel(\"Sepal Width\")\n",
    "plt.legend(title = \"Species\", loc = \"upper right\")\n",
    "plt.show()"
   ]
  },
  {
   "cell_type": "markdown",
   "id": "fb118225-09fe-412f-9057-70cb26a93b43",
   "metadata": {},
   "source": [
    "Pandas provides many tools to wrangle data. The following example summarises the sepal length of each species. It starts by grouping the data by species, then it extracts the sepal length variable, finally it computes the mean and standard deviation of these values"
   ]
  },
  {
   "cell_type": "code",
   "execution_count": 21,
   "id": "7cb61f4f-7df0-4e88-beab-54133b8c1e77",
   "metadata": {},
   "outputs": [
    {
     "name": "stdout",
     "output_type": "stream",
     "text": [
      "           sepal_length       \n",
      "                    std   mean\n",
      "species                       \n",
      "setosa         0.352490  5.006\n",
      "versicolor     0.516171  5.936\n",
      "virginica      0.635880  6.588\n"
     ]
    }
   ],
   "source": [
    "iris_summary = iris.groupby(\"species\")[[\"sepal_length\"]].agg({\"sepal_length\": [\"std\", \"mean\"]})\n",
    "print(iris_summary)"
   ]
  },
  {
   "cell_type": "markdown",
   "id": "022dda49-9b5d-4b91-a83a-999be4184874",
   "metadata": {},
   "source": [
    "This data can then be represented as a bar chart with error bars to indicate two standard deviations about the mean. This is a popular way to visualise this sort of data. It is not the optimal way to represent this data, can you think of a better way? Why do you think we have used two standard deviations in the error bars?"
   ]
  },
  {
   "cell_type": "code",
   "execution_count": 22,
   "id": "8de192f6-b2fc-4aaa-982b-88b00637f996",
   "metadata": {},
   "outputs": [
    {
     "data": {
      "image/png": "[encoded data removed]",
      "text/plain": [
       "<Figure size 432x288 with 1 Axes>"
      ]
     },
     "metadata": {
      "needs_background": "light"
     },
     "output_type": "display_data"
    }
   ],
   "source": [
    "plt.figure()\n",
    "plt.bar(iris_summary.index, \n",
    "        iris_summary.sepal_length[\"mean\"], \n",
    "        yerr=2*iris_summary.sepal_length[\"std\"],\n",
    "        color = \"#67a9cf\")\n",
    "plt.xlabel(\"Species\")\n",
    "plt.ylabel(\"Sepal Length\")\n",
    "plt.show()"
   ]
  },
  {
   "cell_type": "markdown",
   "id": "c73da5f8-c7e2-46f0-9508-cdf535943432",
   "metadata": {},
   "source": [
    "### Challenge\n",
    "\n",
    "Find a better (in your opinion) way to display these data and explain why you think it is better.\n",
    "\n",
    "### Answer\n",
    "\n",
    "Here is a subjective list:\n",
    "\n",
    "1. _swarm plot_\n",
    "2. _jittered scatter plot_\n",
    "3. _box plot_\n",
    "4. _violin plot_\n",
    "\n",
    "Plots that display the data in a clean way with minimal loss of information are preferable."
   ]
  },
  {
   "cell_type": "markdown",
   "id": "03b57eaf-bcee-4041-85df-dae469aa6f91",
   "metadata": {},
   "source": [
    "### Question\n",
    "\n",
    "What do you notice about the correlation between the sepal length and width? Is there a positive or negative correlation?\n",
    "\n",
    "* _Hint 1_ [hmmm](https://en.wikipedia.org/wiki/Simpson%27s_paradox)\n",
    "* _Hint 2_ [it should only take two lines of code](https://pandas.pydata.org/pandas-docs/stable/reference/api/pandas.core.groupby.DataFrameGroupBy.corr.html?highlight=corr#) \n"
   ]
  },
  {
   "cell_type": "markdown",
   "id": "7aad061d-841b-48cb-9b7f-48e544eadd5f",
   "metadata": {},
   "source": [
    "### Answer\n",
    "\n",
    "This is a classic example of Simpson's paradox. If you just look at the correlation without considering that they are drawn from different species, you will get a surprising answer. If you look at the correlations after grouping the data by species you get a far more reasonable result.\n",
    "\n",
    "The two lines of code to see this are shown below.\n"
   ]
  },
  {
   "cell_type": "code",
   "execution_count": 23,
   "id": "89f1fcd6-98a1-4f7e-bb58-b4c8e6d57b6d",
   "metadata": {},
   "outputs": [
    {
     "data": {
      "text/html": [
       "<div>\n",
       "<style scoped>\n",
       "    .dataframe tbody tr th:only-of-type {\n",
       "        vertical-align: middle;\n",
       "    }\n",
       "\n",
       "    .dataframe tbody tr th {\n",
       "        vertical-align: top;\n",
       "    }\n",
       "\n",
       "    .dataframe thead th {\n",
       "        text-align: right;\n",
       "    }\n",
       "</style>\n",
       "<table border=\"1\" class=\"dataframe\">\n",
       "  <thead>\n",
       "    <tr style=\"text-align: right;\">\n",
       "      <th></th>\n",
       "      <th>sepal_length</th>\n",
       "      <th>sepal_width</th>\n",
       "    </tr>\n",
       "  </thead>\n",
       "  <tbody>\n",
       "    <tr>\n",
       "      <th>sepal_length</th>\n",
       "      <td>1.00000</td>\n",
       "      <td>-0.11757</td>\n",
       "    </tr>\n",
       "    <tr>\n",
       "      <th>sepal_width</th>\n",
       "      <td>-0.11757</td>\n",
       "      <td>1.00000</td>\n",
       "    </tr>\n",
       "  </tbody>\n",
       "</table>\n",
       "</div>"
      ],
      "text/plain": [
       "              sepal_length  sepal_width\n",
       "sepal_length       1.00000     -0.11757\n",
       "sepal_width       -0.11757      1.00000"
      ]
     },
     "execution_count": 23,
     "metadata": {},
     "output_type": "execute_result"
    }
   ],
   "source": [
    "iris.filter(items = [\"sepal_length\", \"sepal_width\", \"species\"]).corr()"
   ]
  },
  {
   "cell_type": "code",
   "execution_count": 24,
   "id": "d24e9601-8fc1-43c0-b3af-dbd34cfbb690",
   "metadata": {},
   "outputs": [
    {
     "data": {
      "text/html": [
       "<div>\n",
       "<style scoped>\n",
       "    .dataframe tbody tr th:only-of-type {\n",
       "        vertical-align: middle;\n",
       "    }\n",
       "\n",
       "    .dataframe tbody tr th {\n",
       "        vertical-align: top;\n",
       "    }\n",
       "\n",
       "    .dataframe thead th {\n",
       "        text-align: right;\n",
       "    }\n",
       "</style>\n",
       "<table border=\"1\" class=\"dataframe\">\n",
       "  <thead>\n",
       "    <tr style=\"text-align: right;\">\n",
       "      <th></th>\n",
       "      <th></th>\n",
       "      <th>sepal_length</th>\n",
       "      <th>sepal_width</th>\n",
       "    </tr>\n",
       "    <tr>\n",
       "      <th>species</th>\n",
       "      <th></th>\n",
       "      <th></th>\n",
       "      <th></th>\n",
       "    </tr>\n",
       "  </thead>\n",
       "  <tbody>\n",
       "    <tr>\n",
       "      <th rowspan=\"2\" valign=\"top\">setosa</th>\n",
       "      <th>sepal_length</th>\n",
       "      <td>1.000000</td>\n",
       "      <td>0.742547</td>\n",
       "    </tr>\n",
       "    <tr>\n",
       "      <th>sepal_width</th>\n",
       "      <td>0.742547</td>\n",
       "      <td>1.000000</td>\n",
       "    </tr>\n",
       "    <tr>\n",
       "      <th rowspan=\"2\" valign=\"top\">versicolor</th>\n",
       "      <th>sepal_length</th>\n",
       "      <td>1.000000</td>\n",
       "      <td>0.525911</td>\n",
       "    </tr>\n",
       "    <tr>\n",
       "      <th>sepal_width</th>\n",
       "      <td>0.525911</td>\n",
       "      <td>1.000000</td>\n",
       "    </tr>\n",
       "    <tr>\n",
       "      <th rowspan=\"2\" valign=\"top\">virginica</th>\n",
       "      <th>sepal_length</th>\n",
       "      <td>1.000000</td>\n",
       "      <td>0.457228</td>\n",
       "    </tr>\n",
       "    <tr>\n",
       "      <th>sepal_width</th>\n",
       "      <td>0.457228</td>\n",
       "      <td>1.000000</td>\n",
       "    </tr>\n",
       "  </tbody>\n",
       "</table>\n",
       "</div>"
      ],
      "text/plain": [
       "                         sepal_length  sepal_width\n",
       "species                                           \n",
       "setosa     sepal_length      1.000000     0.742547\n",
       "           sepal_width       0.742547     1.000000\n",
       "versicolor sepal_length      1.000000     0.525911\n",
       "           sepal_width       0.525911     1.000000\n",
       "virginica  sepal_length      1.000000     0.457228\n",
       "           sepal_width       0.457228     1.000000"
      ]
     },
     "execution_count": 24,
     "metadata": {},
     "output_type": "execute_result"
    }
   ],
   "source": [
    "iris.groupby(\"species\")[[\"sepal_length\", \"sepal_width\"]].corr()"
   ]
  },
  {
   "cell_type": "markdown",
   "id": "98b898c2-4f27-48b5-b281-fd7a88a8e9e6",
   "metadata": {},
   "source": [
    "# Statsmodels\n",
    "\n",
    "We will cover this in subsequent tutorials..."
   ]
  }
 ],
 "metadata": {
  "kernelspec": {
   "display_name": "Python 3",
   "language": "python",
   "name": "python3"
  },
  "language_info": {
   "codemirror_mode": {
    "name": "ipython",
    "version": 3
   },
   "file_extension": ".py",
   "mimetype": "text/x-python",
   "name": "python",
   "nbconvert_exporter": "python",
   "pygments_lexer": "ipython3",
   "version": "3.9.4"
  }
 },
 "nbformat": 4,
 "nbformat_minor": 5
}
